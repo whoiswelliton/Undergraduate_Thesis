{
  "cells": [
    {
      "cell_type": "markdown",
      "metadata": {
        "id": "view-in-github",
        "colab_type": "text"
      },
      "source": [
        "<a href=\"https://colab.research.google.com/github/whoiswelliton/Undergraduate_Thesis/blob/main/Automatic_Musical_Instrument_Classification_using_Multivariate_Time_Series_Classification.ipynb\" target=\"_parent\"><img src=\"https://colab.research.google.com/assets/colab-badge.svg\" alt=\"Open In Colab\"/></a>"
      ]
    },
    {
      "cell_type": "markdown",
      "source": [
        "---\n",
        "- *The content in this notebook was developed by Welliton Leal (welliton@alunos.utfpr.edu.br).*\n",
        "\n",
        "- *All the code and notes are provided under a Creative Commons ShareAlike license. Official Copyright Rules / Restrictions / Priveleges Attribution-ShareAlike 4.0 International (CC BY-SA 4.0) https://creativecommons.org/licenses/by-sa/4.0/*\n",
        "---"
      ],
      "metadata": {
        "id": "SKrcCw7d8gqt"
      }
    },
    {
      "cell_type": "markdown",
      "metadata": {
        "id": "V8upzhgRHAWq"
      },
      "source": [
        "---\n",
        "#**UTILS**"
      ]
    },
    {
      "cell_type": "markdown",
      "metadata": {
        "id": "5dQA1fbESgPa"
      },
      "source": [
        "- ## *Paths*"
      ]
    },
    {
      "cell_type": "code",
      "execution_count": 17,
      "metadata": {
        "id": "mPIgfFwDPal1"
      },
      "outputs": [],
      "source": [
        "PATH = {\n",
        "    'LIBRARIES': '/content/drive/MyDrive/#TCC/Libraries/',\n",
        "    'DATABASE': '/content/drive/MyDrive/#TCC/#Database/',\n",
        "    'DATASETS': '/content/drive/MyDrive/#TCC/#Datasets/',\n",
        "    'MODELS': '/content/drive/MyDrive/#TCC/#Models/',\n",
        "    'IMAGES': '/content/drive/MyDrive/#TCC/#Images/',\n",
        "    'PACKAGES': 'lib/python3.7/site-packages',\n",
        "}"
      ]
    },
    {
      "cell_type": "code",
      "execution_count": 18,
      "metadata": {
        "id": "2CCiC4ebOy1R"
      },
      "outputs": [],
      "source": [
        "TINYSOL = {\n",
        "    'HORN': ['Brass/Horn/Normal (Sustain)/Horn - Sustain - TinySOL'],\n",
        "    'TROMBONE': ['Brass/Trombone/Normal (Sustain)/Trombone - Sustain - TinySOL'],\n",
        "    'TRUMPET': ['Brass/Trumpet/Normal (Sustain)/Trumpet - Sustain - TinySOL'],\n",
        "    'TUBA': ['Brass/Tuba/Normal (Sustain)/Tuba - Sustain - TinySOL'],\n",
        "    'CELLO': ['Strings/Cello/Vibrato (Sustain)/Cello - Vibrato - TinySOL'],\n",
        "    'DOUBLEBASS': ['Strings/Double Bass (Contrabass)/Normal (Sustain)/Double Bass - Sustain - TinySOL'],\n",
        "    'VIOLA': ['Strings/Viola/Vibrato (Sustain)/Viola - Vibrato - TinySOL'],\n",
        "    'VIOLIN': ['Strings/Violin/Vibrato (Sustain)/Violin - Vibrato - TinySOL'],\n",
        "    'BASSOON': ['Winds/Bassoon/Normal (Sustain)/Bassoon - Sustain - TinySOL'],\n",
        "    'CLARINET': ['Winds/Clarinet/Normal (Sustain)/Bb Clarinet - Sustain - TinySOL'],\n",
        "    'FLUTE': ['Winds/Flute/Normal (Sustain)/Flute - Sustain - TinySOL'],\n",
        "    'OBOE': ['Winds/Oboe/Normal (Sustain)/Oboe - Sustain - TinySOL'],\n",
        "    'SAX': ['Winds/Saxophone/Normal (Sustain)/Alto Sax - Sustain - TinySOL'],\n",
        "    #'ACCORDION': ['Keyboards/Accordion/Accordion - TinySOL'],\n",
        "}"
      ]
    },
    {
      "cell_type": "code",
      "execution_count": 19,
      "metadata": {
        "id": "OkqCS6jkctxk"
      },
      "outputs": [],
      "source": [
        "ALPINE = {\n",
        "    'HORN': ['Brass/Horn/Normal (Sustain)/Horn - Sustain - Alphine'],\n",
        "    'TROMBONE': ['Brass/Trombone/Normal (Sustain)/Bass Trombone - Sustain - Alphine'],\n",
        "                 #'Brass/Trombone/Mute (Sustain)'],\n",
        "    'TRUMPET': ['Brass/Trumpet/Normal (Sustain)/Trumpet - Sustain - Alphine'],\n",
        "                #'Brass/Trumpet/Mute (Sustain)/Trumpet - Harmon Mute - Alphine',\n",
        "                #'Brass/Trumpet/Mute (Sustain)/Trumpet - Straigth Mute - Alphine'],\n",
        "    'TUBA': ['Brass/Tuba/Normal (Sustain)/Tuba - Sustain - Alphine'], \n",
        "             #'Brass/Tuba/Mute (Sustain)/Tuba - Straight Mute - Alphine'],\n",
        "    'CELLO': ['Strings/Cello/Normal (Sustain)/Cello - Sustain - Alphine'],\n",
        "    'DOUBLEBASS': ['Strings/Double Bass (Contrabass)/Normal (Sustain)/Double Bass - Sustain - Alphine'],\n",
        "    'VIOLA': ['Strings/Viola/Vibrato (Sustain)/Viola - Vibrato - Alphine', \n",
        "              'Strings/Viola/Normal (Sustain)/Viola - Sustain - Alphine'],\n",
        "    'VIOLIN': ['Strings/Violin/Vibrato (Sustain)/Violin - Vibrato - Alphine',\n",
        "               'Strings/Violin/Normal (Sustain)/Violin - Sustain - Alphine'],\n",
        "    'BASSOON': ['Winds/Bassoon/Normal (Short)/Bassoon - Short - Alphine'],\n",
        "    'CLARINET': ['Winds/Clarinet/Normal (Sustain)/Bass Clarinet - Sustain - Alphine',\n",
        "                 'Winds/Clarinet/Normal (Sustain)/Bb Clarinet - Sustain - Alphine',\n",
        "                 'Winds/Clarinet/Normal (Sustain)/Eb Clarinet - Sustain - Alphine'],\n",
        "    'FLUTE': ['Winds/Flute/Normal (Sustain)/Flute - Sustain - Alphine',\n",
        "              'Winds/Flute/Vibrato (Sustain)/Flute - Vibrato - Alphine'],\n",
        "    'OBOE': ['Winds/Oboe/Vibrato (Sustain)/Oboe - Vibrato - Alphine'],\n",
        "    'SAX': ['Winds/Saxophone/Normal (Sustain)/Alto Sax - Sustain - Alphine'],\n",
        "    #'PICCOLO': ['Winds/Piccolo/Normal (Sustain)/Piccolo - Sustain - Alphine'],\n",
        "}"
      ]
    },
    {
      "cell_type": "markdown",
      "metadata": {
        "id": "Q9vHn3l8YiRq"
      },
      "source": [
        "- ## *Virtual Environments*"
      ]
    },
    {
      "cell_type": "code",
      "execution_count": 20,
      "metadata": {
        "id": "HiQDh6ikZpJY"
      },
      "outputs": [],
      "source": [
        "import os, gc, sys, random, time\n",
        "from os import path as os_path"
      ]
    },
    {
      "cell_type": "code",
      "execution_count": 21,
      "metadata": {
        "id": "FX--Ypu7znlw"
      },
      "outputs": [],
      "source": [
        "virtual_envs = [\n",
        "    #'librosa_env',\n",
        "    'sktime_env/',\n",
        "    'tslearn_env/',\n",
        "    'joblib_env/',\n",
        "]"
      ]
    },
    {
      "cell_type": "code",
      "execution_count": 22,
      "metadata": {
        "id": "2v4p9HhBZggV",
        "colab": {
          "base_uri": "https://localhost:8080/"
        },
        "outputId": "d1164d73-83d6-48b7-d25b-29280dbfb02a"
      },
      "outputs": [
        {
          "output_type": "stream",
          "name": "stdout",
          "text": [
            "['', '/content', '/env/python', '/usr/lib/python37.zip', '/usr/lib/python3.7', '/usr/lib/python3.7/lib-dynload', '/usr/local/lib/python3.7/dist-packages', '/usr/lib/python3/dist-packages', '/usr/local/lib/python3.7/dist-packages/IPython/extensions', '/root/.ipython', '/content/drive/MyDrive/#TCC/Libraries/sktime_env/lib/python3.7/site-packages', '/content/drive/MyDrive/#TCC/Libraries/tslearn_env/lib/python3.7/site-packages', '/content/drive/MyDrive/#TCC/Libraries/joblib_env/lib/python3.7/site-packages', '/content/drive/MyDrive/#TCC/Libraries/sktime_env/lib/python3.7/site-packages', '/content/drive/MyDrive/#TCC/Libraries/tslearn_env/lib/python3.7/site-packages', '/content/drive/MyDrive/#TCC/Libraries/joblib_env/lib/python3.7/site-packages']\n"
          ]
        }
      ],
      "source": [
        "for env_name in virtual_envs: \n",
        "    sys.path.append(PATH['LIBRARIES'] + env_name + PATH['PACKAGES'])\n",
        "\n",
        "del(virtual_envs)\n",
        "print(sys.path)"
      ]
    },
    {
      "cell_type": "markdown",
      "metadata": {
        "id": "XYszJOz1_hzH"
      },
      "source": [
        "- ## *Libraries* "
      ]
    },
    {
      "cell_type": "markdown",
      "metadata": {
        "id": "EdBTuJv8sz-9"
      },
      "source": [
        "- **Utils**\n",
        "\n",
        "> - numpy: https://numpy.org/doc/stable/\n",
        "> - pandas: https://pandas.pydata.org/docs/\n",
        "> - pickle: https://docs.python.org/3/library/pickle.html\n",
        "> - psutil: https://github.com/giampaolo/psutil\n",
        "> - tracemalloc: https://docs.python.org/3/library/tracemalloc.html"
      ]
    },
    {
      "cell_type": "code",
      "execution_count": 23,
      "metadata": {
        "id": "c-dCqQKXZldi",
        "colab": {
          "base_uri": "https://localhost:8080/"
        },
        "outputId": "55fbcbae-01ea-4a58-8be2-d17ccdbb9de7"
      },
      "outputs": [
        {
          "output_type": "stream",
          "name": "stdout",
          "text": [
            "numpy: 1.21.6\n",
            "pandas: 1.3.5\n"
          ]
        }
      ],
      "source": [
        "import numpy as np\n",
        "import pandas as pd\n",
        "import pickle as pkl\n",
        "import psutil as utl\n",
        "import tracemalloc\n",
        "\n",
        "\n",
        "print(\"numpy: \" + np.__version__)\n",
        "print(\"pandas: \" + pd.__version__)"
      ]
    },
    {
      "cell_type": "markdown",
      "metadata": {
        "id": "KXnxV3sPKXSs"
      },
      "source": [
        "- **Audio & Signals**\n",
        "\n",
        "> - librosa: https://librosa.org/doc/main/index.html"
      ]
    },
    {
      "cell_type": "code",
      "execution_count": 24,
      "metadata": {
        "id": "Ymm4lLeTGwWv",
        "colab": {
          "base_uri": "https://localhost:8080/"
        },
        "outputId": "ea205a07-d78c-44da-bed5-7e357e4e4cbb"
      },
      "outputs": [
        {
          "output_type": "stream",
          "name": "stdout",
          "text": [
            "librosa: 0.8.1\n"
          ]
        }
      ],
      "source": [
        "import librosa\n",
        "import librosa.display\n",
        "print(\"librosa: \" + librosa.__version__)"
      ]
    },
    {
      "cell_type": "markdown",
      "metadata": {
        "id": "WwIMIrNsDbAv"
      },
      "source": [
        "- **Time Series & Machine Learning**\n",
        "\n",
        "> - sktime: https://www.sktime.org/en/stable/\n",
        "> - tslearn: https://tslearn.readthedocs.io/en/stable/index.html\n",
        "> - sklearn: https://scikit-learn.org/stable/"
      ]
    },
    {
      "cell_type": "code",
      "execution_count": 25,
      "metadata": {
        "id": "9WUH83QHv_qU",
        "colab": {
          "base_uri": "https://localhost:8080/"
        },
        "outputId": "8fd870ed-d8c0-4bbc-ed4d-1043591ba389"
      },
      "outputs": [
        {
          "output_type": "stream",
          "name": "stdout",
          "text": [
            "sktime: 0.8.0\n",
            "tslearn: 0.5.2\n",
            "sklearn: 1.0.2\n"
          ]
        }
      ],
      "source": [
        "import sktime\n",
        "import tslearn\n",
        "import sklearn\n",
        "print(\"sktime: \" + sktime.__version__)\n",
        "print(\"tslearn: \" + tslearn.__version__)\n",
        "print(\"sklearn: \" + sklearn.__version__)"
      ]
    },
    {
      "cell_type": "code",
      "execution_count": 26,
      "metadata": {
        "id": "sK1Ooai6rAKB"
      },
      "outputs": [],
      "source": [
        "from tslearn.utils import from_sktime_dataset, to_sktime_dataset\n",
        "from tensorflow.keras.optimizers import Adam\n",
        "from sktime.utils.data_io import(\n",
        "    load_from_tsfile_to_dataframe,\n",
        "    write_dataframe_to_tsfile)\n",
        "from sktime.datatypes._panel._convert import(\n",
        "    from_2d_array_to_nested,\n",
        "    from_nested_to_2d_array,\n",
        "    is_nested_dataframe)"
      ]
    },
    {
      "cell_type": "code",
      "execution_count": 27,
      "metadata": {
        "id": "j453-rH3LOe6"
      },
      "outputs": [],
      "source": [
        "from sklearn.pipeline import Pipeline\n",
        "from tslearn.preprocessing import TimeSeriesScalerMinMax\n",
        "from sktime.classification.compose import ColumnEnsembleClassifier\n",
        "from sktime.transformations.panel.compose import ColumnConcatenator\n",
        "from sklearn.model_selection import train_test_split, KFold, GridSearchCV\n",
        "from sklearn.metrics import (accuracy_score, classification_report,\n",
        "                             confusion_matrix, ConfusionMatrixDisplay,\n",
        "                             roc_auc_score, roc_curve)"
      ]
    },
    {
      "cell_type": "code",
      "execution_count": 28,
      "metadata": {
        "id": "c-UfsF1zZl27"
      },
      "outputs": [],
      "source": [
        "from sktime.classification.distance_based import KNeighborsTimeSeriesClassifier\n",
        "from tslearn.svm import TimeSeriesSVC\n",
        "from tslearn.shapelets import LearningShapelets, grabocka_params_to_shapelet_size_dict"
      ]
    },
    {
      "cell_type": "markdown",
      "metadata": {
        "id": "LZzSVdFEzLhz"
      },
      "source": [
        "- **Visualization**\n",
        "\n",
        "> - matplotlib: https://matplotlib.org/\n",
        "> - seaborn: https://seaborn.pydata.org/"
      ]
    },
    {
      "cell_type": "code",
      "execution_count": 29,
      "metadata": {
        "id": "ARrkxii2z4LN",
        "colab": {
          "base_uri": "https://localhost:8080/"
        },
        "outputId": "839212d8-b305-4f1b-af16-dcb107d1a475"
      },
      "outputs": [
        {
          "output_type": "stream",
          "name": "stdout",
          "text": [
            "matplotlib: 3.2.2\n",
            "seaborn: 0.11.2\n"
          ]
        }
      ],
      "source": [
        "import matplotlib\n",
        "import matplotlib.pyplot as plt\n",
        "import seaborn as sns\n",
        "print(\"matplotlib: \" + matplotlib.__version__)\n",
        "print(\"seaborn: \" + sns.__version__)"
      ]
    },
    {
      "cell_type": "markdown",
      "metadata": {
        "id": "L2gslACrXZ30"
      },
      "source": [
        "---\n",
        "#**FUNCTIONS**"
      ]
    },
    {
      "cell_type": "markdown",
      "metadata": {
        "id": "SiVcUgNu_397"
      },
      "source": [
        "##*Functions 01* - **RAW Audio Data**"
      ]
    },
    {
      "cell_type": "markdown",
      "metadata": {
        "id": "y7xCZtLaz8Ts"
      },
      "source": [
        "- librosa.util.find_files = Get a sorted list of (audio) files in a directory or directory sub-tree."
      ]
    },
    {
      "cell_type": "code",
      "execution_count": 30,
      "metadata": {
        "id": "XRfwGdyEt5Y0"
      },
      "outputs": [],
      "source": [
        "def load_wav_paths(path):\n",
        "    '''\n",
        "        Get a sorted list of audio (wav) files in a directory or directory sub-tree\n",
        "    '''\n",
        "    load_files = []\n",
        "    load_files = librosa.util.find_files(\n",
        "        path, \n",
        "        ext = 'wav', \n",
        "        recurse = True)\n",
        "    \n",
        "    print(f\"Found {len(load_files)} WAV Files\")\n",
        "    return load_files"
      ]
    },
    {
      "cell_type": "markdown",
      "metadata": {
        "id": "LmHtT6Wz3_Lu"
      },
      "source": [
        "- librosa.load = Load an audio file as a floating point time series.\n",
        "- es.MonoLoader = the MonoLoader will downmix the file to a mono signal and resample it to the given sample rate."
      ]
    },
    {
      "cell_type": "code",
      "execution_count": 31,
      "metadata": {
        "id": "GKuflye12Yue"
      },
      "outputs": [],
      "source": [
        "def librosa_load(files):\n",
        "    '''\n",
        "        Load an audio file as a floating point time series.\n",
        "        Audio will be automatically resampled to the given rate of 44100.\n",
        "    '''\n",
        "    data = []\n",
        "    for p in files:\n",
        "\n",
        "        audio_series, sr = librosa.load(\n",
        "            path = p, \n",
        "            sr = SAMPLE_RATE, \n",
        "            mono = True,\n",
        "            dtype = np.float32,\n",
        "            duration = LENGHT_LIMIT/2)\n",
        "        \n",
        "        audio_series = np.asarray(audio_series)\n",
        "        duration = get_durations([audio_series])\n",
        "\n",
        "        if duration[0] < LENGHT_LIMIT:\n",
        "\n",
        "            audio_series = np.asarray(fix_audio_lenght([audio_series])[0])\n",
        "            audio_series = np.nan_to_num(audio_series, nan = 0)\n",
        "\n",
        "        audio_series = audio_series.astype(dtype = np.float32)\n",
        "        data.append(audio_series)\n",
        "\n",
        "    print(f'{len(data)} Samples Loaded')  \n",
        "    return data"
      ]
    },
    {
      "cell_type": "code",
      "execution_count": 32,
      "metadata": {
        "id": "evKLfuvlHo8-"
      },
      "outputs": [],
      "source": [
        "def get_instruments_data(INSTRUMENTS):\n",
        "\n",
        "    data = []\n",
        "    print(f\"Loading Parameters: SAMPLE RATE: {SAMPLE_RATE}\")\n",
        "    \n",
        "    FILEPATH = f'{PATH[\"DATASETS\"]}Raw/{DATABASE_NAME}/SR{SAMPLE_RATE}/'\n",
        "    if os_path.exists(FILEPATH) == False: os.mkdir(FILEPATH)\n",
        "\n",
        "    for name, paths in INSTRUMENTS.items():\n",
        "\n",
        "        files = []\n",
        "\n",
        "        FILENAME = f'data_{name}_{LENGHT_LIMIT}_{SAMPLE_RATE}'\n",
        "        for pth in paths:\n",
        "            print(f'{pth}')\n",
        "            files += load_wav_paths(PATH[\"DATABASE\"] + pth)\n",
        "\n",
        "        print(f'{len(files)} {name} Files Loaded ')\n",
        "        data = librosa_load(files)\n",
        "        \n",
        "        pkl.dump(data, open(f\"{FILEPATH}{FILENAME}.pickle\",'wb'))\n",
        "        gc.collect()\n",
        "\n",
        "    del(data)\n",
        "    del(files)\n",
        "    #return(output_array)"
      ]
    },
    {
      "cell_type": "code",
      "execution_count": 33,
      "metadata": {
        "id": "dQTgWLLAHrTc"
      },
      "outputs": [],
      "source": [
        "def load_instruments_data(PATH_INSTRUMENTS):\n",
        "\n",
        "    print(f\"Loading Parameters: SAMPLE RATE: {SAMPLE_RATE}\")\n",
        "    \n",
        "    output_array = []\n",
        "\n",
        "    for INSTR_name in PATH_INSTRUMENTS.keys():\n",
        "        print(f'{INSTR_name} Data Loaded')\n",
        "\n",
        "        #raw\n",
        "        data = {f'{INSTR_name}': pkl.load(\n",
        "            open(f\"{PATH['DATASETS']}Raw/{DATABASE_NAME}/SR{SAMPLE_RATE}/data_{INSTR_name}_{LENGHT_LIMIT}_{SAMPLE_RATE}.pickle\",'rb'))}\n",
        "\n",
        "        output_array.append(data)\n",
        "        gc.collect()\n",
        "\n",
        "    del(data)\n",
        "    return(output_array)"
      ]
    },
    {
      "cell_type": "code",
      "source": [
        "def get_durations(data):\n",
        "    \n",
        "    durations = []\n",
        "    for x in data:\n",
        "        D = librosa.get_duration(\n",
        "            y = x)#, sr = SAMPLE_RATE)\n",
        "        durations.append(D)\n",
        "\n",
        "    return durations"
      ],
      "metadata": {
        "id": "E_EuChwfFKFx"
      },
      "execution_count": 34,
      "outputs": []
    },
    {
      "cell_type": "code",
      "execution_count": 35,
      "metadata": {
        "id": "kqgPNhwk32Zm"
      },
      "outputs": [],
      "source": [
        "def fix_audio_lenght(data):\n",
        "\n",
        "    fixed = []\n",
        "    for d in data:\n",
        "\n",
        "        fixed_series = librosa.util.fix_length(d, \n",
        "                size = int((LENGHT_LIMIT*44100)/2),\n",
        "                #dtype = np.float32, \n",
        "                mode = \"constant\",\n",
        "                constant_values = (0.001))\n",
        "\n",
        "        fixed.append(np.asarray(fixed_series))\n",
        "    \n",
        "    return(fixed)"
      ]
    },
    {
      "cell_type": "markdown",
      "metadata": {
        "id": "qp8O56wesnVE"
      },
      "source": [
        "##*Functions 02* - **Temporal Features Extraction** [Time Domain]"
      ]
    },
    {
      "cell_type": "markdown",
      "metadata": {
        "id": "Z1inFbZ7eVuX"
      },
      "source": [
        "- **Amplitude Envelope**"
      ]
    },
    {
      "cell_type": "markdown",
      "metadata": {
        "id": "XGoBfRwRT9mW"
      },
      "source": [
        "> Compute the max value for each frame from the audio samples"
      ]
    },
    {
      "cell_type": "code",
      "execution_count": 36,
      "metadata": {
        "id": "wi64GCl5edni"
      },
      "outputs": [],
      "source": [
        "def extract_amplitude_envelope(waveform):\n",
        "    AMP = []\n",
        "    \n",
        "    for W in waveform:\n",
        "        \n",
        "        amp_ft = np.array([max(W[i:i+FRAME_SIZE]) for i in range(0, len(W), HOP_LENGTH)])\n",
        "        AMP.append(amp_ft)\n",
        "\n",
        "    del(amp_ft)\n",
        "    gc.collect()\n",
        "    return(AMP)"
      ]
    },
    {
      "cell_type": "markdown",
      "metadata": {
        "id": "kxgOTdd3fDax"
      },
      "source": [
        "- **Root-Mean Square**"
      ]
    },
    {
      "cell_type": "markdown",
      "metadata": {
        "id": "yCjq29QhT66k"
      },
      "source": [
        "> Compute root-mean-square value for each frame, either from the audio samples y or from a spectrogram S."
      ]
    },
    {
      "cell_type": "code",
      "execution_count": 37,
      "metadata": {
        "id": "JxOw3mbRfRq-"
      },
      "outputs": [],
      "source": [
        "def extract_root_mean_square(waveform):\n",
        "    RMS = [] #threshold default = 1e-10\n",
        "\n",
        "    for W in waveform:\n",
        "      \n",
        "        rms_ft = np.ndarray.flatten(librosa.feature.rms(W, frame_length = FRAME_SIZE , hop_length = HOP_LENGTH))\n",
        "        RMS.append(rms_ft)\n",
        "\n",
        "    del(rms_ft)\n",
        "    gc.collect()\n",
        "    return(RMS)"
      ]
    },
    {
      "cell_type": "markdown",
      "metadata": {
        "id": "MsIcIG70f9e7"
      },
      "source": [
        "- **Zero-Crossing Rate**"
      ]
    },
    {
      "cell_type": "markdown",
      "metadata": {
        "id": "VWs7RLPdT4BA"
      },
      "source": [
        "> Compute the zero-crossing rate of an audio time series."
      ]
    },
    {
      "cell_type": "code",
      "execution_count": 38,
      "metadata": {
        "id": "0keKdomQfnkT"
      },
      "outputs": [],
      "source": [
        "def extract_zero_crossing_rate(waveform):\n",
        "    ZCR = []\n",
        "\n",
        "    for W in waveform:\n",
        "   \n",
        "        zcr_ft = np.ndarray.flatten(librosa.feature.zero_crossing_rate(W, threshold=0.0005, frame_length = FRAME_SIZE, hop_length = HOP_LENGTH))\n",
        "        ZCR.append(zcr_ft)\n",
        "    \n",
        "    del(zcr_ft)\n",
        "    gc.collect()\n",
        "    return (ZCR)"
      ]
    },
    {
      "cell_type": "markdown",
      "metadata": {
        "id": "1caxTpt15t7S"
      },
      "source": [
        "##*Functions 03* - **Spectral Features Extraction** [Frequency Domain]"
      ]
    },
    {
      "cell_type": "code",
      "execution_count": 39,
      "metadata": {
        "id": "7wt2TCgxPRn2"
      },
      "outputs": [],
      "source": [
        "def extract_spectrogram(audiodata):\n",
        "    #phases = []\n",
        "    mag_spectrogram = []\n",
        "    complex_spectrogram = []\n",
        "    log_spectrogram = []\n",
        "\n",
        "    for x in audiodata:\n",
        "\n",
        "        stft = librosa.stft(x, n_fft = FRAME_SIZE, hop_length = HOP_LENGTH) #D\n",
        "        #mag, phs = librosa.magphase(D = stft, power = 2)  #1 for energy, 2 for power\n",
        "        mag = np.abs(stft, dtype = np.float64)**2\n",
        "        log_mag = librosa.power_to_db(mag)\n",
        "        \n",
        "        complex_spectrogram.append(stft)\n",
        "        log_spectrogram.append(log_mag)\n",
        "        mag_spectrogram.append(mag)\n",
        "        #phases.append(phs)\n",
        "\n",
        "    return mag_spectrogram, log_spectrogram, complex_spectrogram"
      ]
    },
    {
      "cell_type": "code",
      "execution_count": 40,
      "metadata": {
        "id": "OWQjhXrNFKY5"
      },
      "outputs": [],
      "source": [
        "def extract_band_energy_ratio(audiodata):\n",
        "\n",
        "    i = 0\n",
        "    BER = []\n",
        "    split_frequency = 2048          #Arbitrary\n",
        "    frequency_range = SAMPLE_RATE/2 #Nyquist Frequency\n",
        "\n",
        "    for x in audiodata:\n",
        "\n",
        "        band_energy_ratio = []\n",
        "        \n",
        "        stft = librosa.stft(y = x, hop_length = HOP_LENGTH, n_fft = FRAME_SIZE)\n",
        "        mag = np.abs(stft, dtype = np.float64)**2\n",
        "        power_spec = mag.T #Traspose\n",
        "        del(mag)\n",
        "\n",
        "        frequency_delta_per_bin = frequency_range / stft.shape[0] \n",
        "        split_frequency_bin = int(np.floor(split_frequency / frequency_delta_per_bin).astype(np.int64))\n",
        "        del(stft)\n",
        "\n",
        "        #BER for each frame\n",
        "        for frequencies_in_frame in power_spec:\n",
        "\n",
        "            sum_power_low_freq = np.sum(frequencies_in_frame[:split_frequency_bin], dtype = np.float64)\n",
        "            sum_power_high_freq = np.sum(frequencies_in_frame[split_frequency_bin:], dtype = np.float64)\n",
        "\n",
        "            BER_current_frame = sum_power_low_freq / sum_power_high_freq\n",
        "            band_energy_ratio.append(BER_current_frame)\n",
        "        \n",
        "        band_energy_ratio = np.asarray(band_energy_ratio, dtype = np.float64)\n",
        "        band_energy_ratio = np.nan_to_num(band_energy_ratio, nan = band_energy_ratio.mean(dtype = np.float64))\n",
        "        BER.append(band_energy_ratio)\n",
        "\n",
        "    return BER"
      ]
    },
    {
      "cell_type": "code",
      "execution_count": 41,
      "metadata": {
        "id": "ApyaSV_Q577d"
      },
      "outputs": [],
      "source": [
        "def extract_spectral_centroid(mag_spectrogram):\n",
        "    spct_centroid = []\n",
        "  \n",
        "    for S in mag_spectrogram:\n",
        "\n",
        "        spc_cntrd =  np.ndarray.flatten(librosa.feature.spectral_centroid(S = S, sr = SAMPLE_RATE, n_fft = FRAME_SIZE, hop_length = HOP_LENGTH))\n",
        "        spct_centroid.append(spc_cntrd)\n",
        "    \n",
        "    return spct_centroid"
      ]
    },
    {
      "cell_type": "code",
      "execution_count": 42,
      "metadata": {
        "id": "zmwmKtPL2uAL"
      },
      "outputs": [],
      "source": [
        "def extract_spectral_bandwidth(mag_spectrogram):\n",
        "    spct_bandwidth = []\n",
        "\n",
        "    for S in mag_spectrogram:\n",
        "\n",
        "        #spc_cntrd =  np.ndarray.flatten(librosa.feature.spectral_centroid(S = S, sr = SAMPLE_RATE, n_fft = FRAME_SIZE, hop_length = HOP_LENGTH))\n",
        "        spc_bw = np.ndarray.flatten(librosa.feature.spectral_bandwidth (S = S,sr = SAMPLE_RATE, n_fft = FRAME_SIZE, hop_length = HOP_LENGTH))\n",
        "        spct_bandwidth.append(spc_bw)\n",
        "\n",
        "    return spct_bandwidth"
      ]
    },
    {
      "cell_type": "markdown",
      "metadata": {
        "id": "DmUPGAY7w-1p"
      },
      "source": [
        "##*Functions 04* - **Composed Feature Extraction**"
      ]
    },
    {
      "cell_type": "code",
      "execution_count": 43,
      "metadata": {
        "id": "i57Kj9bsw4yu"
      },
      "outputs": [],
      "source": [
        "def extract_all_features(data_INSTR):\n",
        "    \n",
        "    all_features = []\n",
        "\n",
        "    #TEMPORAL FEATURES\n",
        "    amp_INSTR = []\n",
        "    amp_INSTR = extract_amplitude_envelope(\n",
        "        data_INSTR)\n",
        "    all_features.append(amp_INSTR)\n",
        "    del(amp_INSTR)\n",
        "\n",
        "    rms_INSTR = []\n",
        "    rms_INSTR = extract_root_mean_square(\n",
        "        data_INSTR)\n",
        "    all_features.append(rms_INSTR)\n",
        "    del(rms_INSTR)\n",
        "\n",
        "    zcr_INSTR = []\n",
        "    zcr_INSTR = extract_zero_crossing_rate(\n",
        "        data_INSTR)\n",
        "    all_features.append(zcr_INSTR)\n",
        "    del(zcr_INSTR)\n",
        "\n",
        "    #SPECTROGRAM\n",
        "    mag_spec_INSTR = [] \n",
        "    mag_spec_INSTR, log_spectrogram, complex_spectrogram = extract_spectrogram(data_INSTR)\n",
        "\n",
        "    #SPECTRAL FEATURES\n",
        "    ber_INSTR = []\n",
        "    ber_INSTR = extract_band_energy_ratio(data_INSTR)\n",
        "    all_features.append(ber_INSTR)\n",
        "    del(ber_INSTR)\n",
        "    \n",
        "    bndw_INSTR = []\n",
        "    bndw_INSTR = extract_spectral_bandwidth(mag_spec_INSTR)\n",
        "    all_features.append(bndw_INSTR)\n",
        "    del(bndw_INSTR)\n",
        "    \n",
        "    cntrd_INSTR = []\n",
        "    cntrd_INSTR =  extract_spectral_centroid(mag_spec_INSTR)\n",
        "    all_features.append(cntrd_INSTR)\n",
        "    del(cntrd_INSTR)\n",
        "\n",
        "    return(all_features)"
      ]
    },
    {
      "cell_type": "code",
      "execution_count": 44,
      "metadata": {
        "id": "yWER4pGME-gU"
      },
      "outputs": [],
      "source": [
        "def extract_temporal_features(data_INSTR):\n",
        "    \n",
        "    time_features = []\n",
        "\n",
        "    #TEMPORAL FEATURES\n",
        "    amp_INSTR = []\n",
        "    amp_INSTR = extract_amplitude_envelope(\n",
        "        data_INSTR, FRAME_SIZE, HOP_LENGTH)\n",
        "    time_features.append(amp_INSTR)\n",
        "    del(amp_INSTR)\n",
        "\n",
        "    rms_INSTR = []\n",
        "    rms_INSTR = extract_root_mean_square(\n",
        "        data_INSTR, FRAME_SIZE, HOP_LENGTH)\n",
        "    time_features.append(rms_INSTR)\n",
        "    del(rms_INSTR)\n",
        "\n",
        "    zcr_INSTR = []\n",
        "    zcr_INSTR = extract_zero_crossing_rate(\n",
        "        data_INSTR, FRAME_SIZE, HOP_LENGTH)\n",
        "    time_features.append(zcr_INSTR)\n",
        "    del(zcr_INSTR)\n",
        "\n",
        "    return(time_features)"
      ]
    },
    {
      "cell_type": "code",
      "execution_count": 45,
      "metadata": {
        "id": "XW1uMye6FL4w"
      },
      "outputs": [],
      "source": [
        "def extract_spectral_features(data_INSTR):\n",
        "    \n",
        "    spec_features = []\n",
        "\n",
        "     #SPECTROGRAM\n",
        "    mag_spec_INSTR = []\n",
        "    mag_spec_INSTR = extract_spectrogram(\n",
        "        data_INSTR, SAMPLE_RATE, FRAME_SIZE, HOP_LENGTH)\n",
        "\n",
        "    #SPECTRAL FEATURES\n",
        "    ber_INSTR = []\n",
        "    ber_INSTR = extract_band_energy_ratio(\n",
        "        data_INSTR, SAMPLE_RATE, HOP_LENGTH, FRAME_SIZE)\n",
        "    spec_features.append(ber_INSTR)\n",
        "    del(ber_INSTR)\n",
        "    \n",
        "    bndw_INSTR = []\n",
        "    bndw_INSTR = extract_spectral_bandwidth(\n",
        "        mag_spec_INSTR, SAMPLE_RATE, FRAME_SIZE, HOP_LENGTH)\n",
        "    spec_features.append(bndw_INSTR)\n",
        "    del(bndw_INSTR)\n",
        "    \n",
        "    cntrd_INSTR = []\n",
        "    cntrd_INSTR =  extract_spectral_centroid(\n",
        "        mag_spec_INSTR, SAMPLE_RATE, FRAME_SIZE, HOP_LENGTH)\n",
        "    spec_features.append(cntrd_INSTR)\n",
        "    del(cntrd_INSTR)\n",
        "\n",
        "    return(spec_features)"
      ]
    },
    {
      "cell_type": "code",
      "execution_count": 46,
      "metadata": {
        "id": "z-I7HTwJ2Lom"
      },
      "outputs": [],
      "source": [
        "def feature_extraction(data_INSTRUMENTS):\n",
        "\n",
        "    print(f\"Extraction Parameters: \\\n",
        "        AUDIO LENGHT - {LENGHT_LIMIT} - FRAME SIZE: {FRAME_SIZE} - HOP LENGHT {HOP_LENGTH}\")\n",
        "\n",
        "    output_list = []\n",
        "    df_output = pd.DataFrame()\n",
        "\n",
        "    for INSTR_dict in data_INSTRUMENTS:\n",
        "\n",
        "        for INSTR_name, INSTR_data in INSTR_dict.items():\n",
        "      \n",
        "            if FEATURES_TYPE == 'All':\n",
        "                features = extract_all_features(INSTR_data)\n",
        "            elif FEATURES_TYPE == 'Temporal':\n",
        "                features = extract_temporal_features(INSTR_data)\n",
        "            elif FEATURES_TYPE == 'Spectral':\n",
        "                features = extract_spectral_features(INSTR_data)\n",
        "\n",
        "            dataframe, labels = instrument_features_to_dataframe(features, INSTR_name)\n",
        "            del(features)\n",
        "\n",
        "            df_column = pd.concat([dataframe, pd.DataFrame({'LABELS': labels})], axis = 1)\n",
        "            del(dataframe)\n",
        "\n",
        "        df_output = pd.concat([df_output, df_column], axis = 0, ignore_index = True)\n",
        "        print(f\"{INSTR_name} Features Extraction Completed\")\n",
        "        del(df_column)\n",
        "\n",
        "    return(df_output)"
      ]
    },
    {
      "cell_type": "markdown",
      "metadata": {
        "id": "4IUDtIlCjyjT"
      },
      "source": [
        "##*Functions 05* - **Dataset Preparation**"
      ]
    },
    {
      "cell_type": "code",
      "execution_count": 47,
      "metadata": {
        "id": "reMiFFYQksgn"
      },
      "outputs": [],
      "source": [
        "def instrument_features_to_dataframe(features, instrument):\n",
        "    \n",
        "    FILEPATH = f\"{PATH['DATASETS']}Instruments/{LENGTH_TYPE}/{DATABASE_NAME}/SR{SAMPLE_RATE}_FR{FRAME_SIZE}_HP{HOP_LENGTH}\"\n",
        "    FILENAME = f\"df_{instrument}_{LENGTH_TYPE}_{LENGHT_LIMIT}_{DATABASE_NAME}_{FEATURES_TYPE}_features\"\n",
        "    if os_path.exists(FILEPATH) == False: os.mkdir(FILEPATH)\n",
        "\n",
        "    label = [f'{instrument}']\n",
        "    all_labels = np.asarray([label[0] for i in range(0, len(features[0]))])\n",
        " \n",
        "    #verifica df com mais colunas\n",
        "    max = 1\n",
        "    for ft_series in features:\n",
        "        df_atual = pd.DataFrame(ft_series)\n",
        "        atual = len(df_atual.columns)\n",
        "        if atual > max: max = atual\n",
        "  \n",
        "    df_final = pd.DataFrame()\n",
        "\n",
        "    for ft_series in features:\n",
        "        \n",
        "        df_atual = pd.DataFrame(ft_series)\n",
        "        #enquanto menor que maior df, adiciona coluna de zero\n",
        "        while len(df_atual.columns) < max:\n",
        "            df_atual[f'{len(df_atual.columns)}'] = 0.0\n",
        "\n",
        "        #se tiver NaN, substitui por zero\n",
        "        df_atual = df_atual.fillna(0)\n",
        "        #converte para o formato aninhado e concatena\n",
        "        df_nested = from_2d_array_to_nested(df_atual, cells_as_numpy = False)\n",
        "        df_final = pd.concat([df_final, df_nested], axis = 1)\n",
        "    \n",
        "    del(df_atual)\n",
        "    del(df_nested)\n",
        "\n",
        "    cols_list = ['AMP','RMS','ZCR','BER','BNDW','CNTRD']\n",
        "    if FEATURES_TYPE == 'All': \n",
        "        df_final.columns = cols_list\n",
        "    elif FEATURES_TYPE == 'Temporal': \n",
        "        df_final.columns = cols_list[0:3]\n",
        "    elif FEATURES_TYPE == 'Spectral': \n",
        "        df_final.columns = cols_list[3:6]\n",
        "    \n",
        "    write_dataframe_to_tsfile(\n",
        "        df_final, \n",
        "        FILEPATH,\n",
        "        problem_name = FILENAME,\n",
        "        class_label = label,\n",
        "        class_value_list = all_labels)\n",
        "    \n",
        "    return(df_final, all_labels)"
      ]
    },
    {
      "cell_type": "code",
      "execution_count": 48,
      "metadata": {
        "id": "YADysqPpkCrC"
      },
      "outputs": [],
      "source": [
        "def get_equal_size_df_columns(df):\n",
        "\n",
        "    for j in range(0, len(df.columns)):\n",
        "\n",
        "        lenghts = []\n",
        "        for i in range(0, len(df)):\n",
        "            lenghts.append(len(df.iloc[i,j]))\n",
        "        \n",
        "        sizes = np.unique(lenghts)\n",
        "        del(lenghts)\n",
        "        if len(sizes) > 1: max = np.amax(sizes)\n",
        "        else: max = sizes[0]\n",
        "\n",
        "        for i in range(0, len(df)):\n",
        "\n",
        "            if len(df.iloc[i,j]) < max:\n",
        "\n",
        "                size_missing = max - len(df.iloc[i,j])\n",
        "                missing = pd.Series([0.0]*size_missing)\n",
        "                df.iloc[i,j] = df.iloc[i,j].append(\n",
        "                    missing, ignore_index = True)\n",
        "                \n",
        "    return df"
      ]
    },
    {
      "cell_type": "code",
      "execution_count": 49,
      "metadata": {
        "id": "iYpU1z-Nz0vk"
      },
      "outputs": [],
      "source": [
        "def normalize(df):\n",
        "\n",
        "    df_temp = df.copy()\n",
        "    qtd_cols = len(df_temp.columns) -1\n",
        "    df_temp.columns = [f'dim_{N}' for N in range(0, qtd_cols)] + ['class_vals']\n",
        "\n",
        "    df_test_3d = from_sktime_dataset(df_temp)\n",
        "    normalized = TimeSeriesScalerMinMax(value_range = (0.0, 1.0)).fit_transform(df_test_3d)\n",
        "    df_normalized = to_sktime_dataset(normalized)\n",
        "\n",
        "    df_normalized['LABELS'] = df['LABELS']\n",
        "    df_normalized.columns = df.columns\n",
        "\n",
        "    return(df_normalized)"
      ]
    },
    {
      "cell_type": "code",
      "execution_count": 50,
      "metadata": {
        "id": "fJlGVL75kdMd"
      },
      "outputs": [],
      "source": [
        "def dataset_preparation(df_input):\n",
        "\n",
        "    FILEPATH = f\"{PATH['DATASETS']}Datasets/{DATABASE_NAME}/SR{SAMPLE_RATE}_FR{FRAME_SIZE}_HP{HOP_LENGTH}/\"\n",
        "    FILENAME = f\"{FEATURES_TYPE}_{LENGTH_TYPE}_{LENGHT_LIMIT}_{DATABASE_NAME}_TS{int(TEST_SIZE*100)}_dataset\"\n",
        "    \n",
        "    qtd_cols = len(df_input.columns) -1\n",
        "    df_treated = get_equal_size_df_columns(df_input.iloc[:,0: qtd_cols])\n",
        "    df_treated = pd.concat([df_treated, df_input['LABELS']], axis = 1)\n",
        "\n",
        "    if NORMALIZED == True:\n",
        "        train_name = f\"X_y_train_Norm_{FILENAME}\"\n",
        "        test_name = f\"X_y_test_Norm_{FILENAME}\"\n",
        "        df_treated = normalize(df_treated)\n",
        "\n",
        "    else:\n",
        "        train_name = f\"X_y_train_{FILENAME}\"\n",
        "        test_name = f\"X_y_test_{FILENAME}\"\n",
        "    \n",
        "    if (ML_CLASSIFIER == 'KNN'):\n",
        "\n",
        "        X_train, X_test, y_train, y_test = train_test_split(\n",
        "            df_treated.iloc[:,0: qtd_cols], \n",
        "            df_treated['LABELS'], \n",
        "            test_size = TEST_SIZE, \n",
        "            random_state = 42, \n",
        "            stratify = df_treated['LABELS'])\n",
        "        print(\"Nested Dataframe Splited\")\n",
        "\n",
        "        if os_path.exists(FILEPATH) == False: os.mkdir(FILEPATH)\n",
        "\n",
        "        write_dataframe_to_tsfile(\n",
        "            X_train, \n",
        "            FILEPATH,\n",
        "            problem_name = train_name,\n",
        "            class_label = y_train.unique(),\n",
        "            class_value_list = y_train)\n",
        "        \n",
        "        write_dataframe_to_tsfile(\n",
        "            X_test, \n",
        "            FILEPATH,\n",
        "            problem_name = test_name,\n",
        "            class_label = y_test.unique(),\n",
        "            class_value_list = y_test)\n",
        "        print(\"Nested Dataframe Stored\")\n",
        "\n",
        "    elif (ML_CLASSIFIER == 'SVM'):\n",
        "\n",
        "        df_treated.columns = [f'dim_{N}' for N in range(0, qtd_cols)] + ['class_vals']\n",
        "\n",
        "        arr_labels = np.asarray(df_treated['class_vals'])\n",
        "        arr_3D_treated = from_sktime_dataset(df_treated.iloc[:,0: qtd_cols])\n",
        "        \n",
        "        X_train, X_test, y_train, y_test = train_test_split(\n",
        "            arr_3D_treated,\n",
        "            arr_labels,\n",
        "            test_size = TEST_SIZE, \n",
        "            random_state = 42, \n",
        "            stratify = arr_labels)\n",
        "        print(\"3D Array List Splited\")\n",
        "\n",
        "        if os_path.exists(FILEPATH + train_name) == False: os.mkdir(FILEPATH + train_name)\n",
        "        if os_path.exists(FILEPATH + test_name) == False: os.mkdir(FILEPATH + test_name)\n",
        "\n",
        "        pkl.dump(\n",
        "            dict(X_train = X_train, y_train = y_train), \n",
        "            open(f\"{FILEPATH}{train_name}/{train_name}.pickle\",'wb'))\n",
        "        pkl.dump(\n",
        "            dict(X_test = X_test, y_test = y_test), \n",
        "            open(f\"{FILEPATH}{test_name}/{test_name}.pickle\",'wb'))\n",
        "        print(\"3D Array List Stored\")\n",
        "\n",
        "    output_dict = {\n",
        "        'X_train': X_train,\n",
        "        'X_test': X_test,\n",
        "        'y_train': y_train,\n",
        "        'y_test': y_test,\n",
        "    }\n",
        "\n",
        "    return(output_dict)"
      ]
    },
    {
      "cell_type": "code",
      "execution_count": 51,
      "metadata": {
        "id": "J8Z9tMFIkhuG"
      },
      "outputs": [],
      "source": [
        "def load_features_dataset():\n",
        "\n",
        "    FILEPATH = f\"{PATH['DATASETS']}Datasets/{DATABASE_NAME}/SR{SAMPLE_RATE}_FR{FRAME_SIZE}_HP{HOP_LENGTH}\"\n",
        "    FILENAME = f\"{FEATURES_TYPE}_{LENGTH_TYPE}_{LENGHT_LIMIT}_{DATABASE_NAME}_TS{int(TEST_SIZE*100)}_dataset\"\n",
        "    \n",
        "    if NORMALIZED == True:\n",
        "        train_name = f\"X_y_train_Norm_{FILENAME}\"\n",
        "        test_name = f\"X_y_test_Norm_{FILENAME}\"\n",
        "    else:\n",
        "        train_name = f\"X_y_train_{FILENAME}\"\n",
        "        test_name = f\"X_y_test_{FILENAME}\"\n",
        "\n",
        "    if (ML_CLASSIFIER == 'KNN'):\n",
        "\n",
        "        X_train, y_train = load_from_tsfile_to_dataframe(\n",
        "            f'{FILEPATH}/{train_name}/{train_name}.ts',\n",
        "                return_separate_X_and_y = True)\n",
        "        X_test, y_test = load_from_tsfile_to_dataframe(\n",
        "            f'{FILEPATH}/{test_name}/{test_name}.ts',\n",
        "                return_separate_X_and_y = True)\n",
        "        \n",
        "    elif (ML_CLASSIFIER == 'SVM') | (ML_CLASSIFIER == 'SHAPELET'):\n",
        "        \n",
        "        X_train = pkl.load(\n",
        "            open(f\"{FILEPATH}/{train_name}/{train_name}.pickle\",'rb'))['X_train']\n",
        "        y_train = pkl.load(\n",
        "            open(f\"{FILEPATH}/{train_name}/{train_name}.pickle\",'rb'))['y_train']\n",
        "        X_test = pkl.load(\n",
        "            open(f\"{FILEPATH}/{test_name}/{test_name}.pickle\",'rb'))['X_test']\n",
        "        y_test = pkl.load(\n",
        "            open(f\"{FILEPATH}/{test_name}/{test_name}.pickle\",'rb'))['y_test']\n",
        "\n",
        "    output_dict = {\n",
        "        'X_train': X_train,\n",
        "        'X_test': X_test,\n",
        "        'y_train': y_train,\n",
        "        'y_test': y_test,\n",
        "    }\n",
        "    \n",
        "    print(f\"Features Datasets Loaded\")\n",
        "    gc.collect()\n",
        "\n",
        "    return(output_dict)"
      ]
    },
    {
      "cell_type": "code",
      "source": [
        "def preprocessing():\n",
        "\n",
        "    INSTRUMENTS_DATA = load_instruments_data(INSTRUMENTS)\n",
        "    print(\"___________________________________________________\")\n",
        "    FEATURES_DATASET = feature_extraction(INSTRUMENTS_DATA)\n",
        "    print(FEATURES_DATASET.keys())\n",
        "    print(\"___________________________________________________\")\n",
        "    INPUT = dataset_preparation(FEATURES_DATASET)\n",
        "    print(INPUT.keys())\n",
        "    print(\"___________________________________________________\")\n",
        "\n",
        "    return INPUT"
      ],
      "metadata": {
        "id": "9D59mvJnryRu"
      },
      "execution_count": 52,
      "outputs": []
    },
    {
      "cell_type": "markdown",
      "metadata": {
        "id": "okJnpMnJlGPQ"
      },
      "source": [
        "##*Functions 06* - **Machine Learning Models**"
      ]
    },
    {
      "cell_type": "code",
      "source": [
        "def performance(state, *args):\n",
        "\n",
        "    if state == True:\n",
        "        tracemalloc.stop()\n",
        "        tracemalloc.start()\n",
        "        peak = 0\n",
        "\n",
        "        out = pd.DataFrame({\n",
        "                'time': [time.time()],\n",
        "                'mem_peak (MB)': [peak*1024],\n",
        "                'mem_used (MB)': [(utl.virtual_memory().used)/1024**2],\n",
        "                'mem_perc (%)': [utl.virtual_memory().percent],\n",
        "                'disk_used (MB)': [(utl.disk_usage('/').used)/1024**2],\n",
        "                'disk_perc (%)': [utl.disk_usage('/').percent],\n",
        "                'cpu (%)': [utl.cpu_percent(interval=1)],\n",
        "        })\n",
        "    \n",
        "    else:\n",
        "        first_size, first_peak = tracemalloc.get_traced_memory()\n",
        "        peak = first_peak/1024**3\n",
        "\n",
        "        end = pd.DataFrame({\n",
        "                'time': [time.time()],\n",
        "                'mem_peak (MB)': [peak*1024],\n",
        "                'mem_used (MB)': [(utl.virtual_memory().used)/1024**2],\n",
        "                'mem_perc (%)': [utl.virtual_memory().percent],\n",
        "                'disk_used (MB)': [(utl.disk_usage('/').used)/1024**2],\n",
        "                'disk_perc (%)': [utl.disk_usage('/').percent],\n",
        "                'cpu (%)': [utl.cpu_percent(interval=1)],\n",
        "        })\n",
        "        out = end - args[0]\n",
        "\n",
        "        print()\n",
        "\n",
        "        FILEPATH = f'{PATH[\"MODELS\"]}{LENGTH_TYPE}/SR{SAMPLE_RATE}_FR{FRAME_SIZE}_HP{HOP_LENGTH}/'\n",
        "        if NORMALIZED == True:FILENAME = f'multi_{ML_CLASSIFIER}_Norm_{FEATURES_TYPE}_features_{LENGTH_TYPE}_{LENGHT_LIMIT}_{DATABASE_NAME}_TS{int(TEST_SIZE*100)}'\n",
        "        else: FILENAME = f'multi_{ML_CLASSIFIER}_{FEATURES_TYPE}_features_{LENGTH_TYPE}_{LENGHT_LIMIT}_{DATABASE_NAME}_TS{int(TEST_SIZE*100)}'\n",
        "        out.to_csv(FILEPATH + FILENAME + f\"/{FILENAME}_pred_performance.csv\", encoding = \"utf-8\")\n",
        "        print('Performance Metrics Saved')\n",
        "    \n",
        "    return(out)"
      ],
      "metadata": {
        "id": "XUdGOf2Wj8-c"
      },
      "execution_count": 53,
      "outputs": []
    },
    {
      "cell_type": "code",
      "source": [
        "def model_train(model_input):\n",
        "\n",
        "    LABELS_NAMES = INSTRUMENTS.keys()\n",
        "    FILEPATH = f'{PATH[\"MODELS\"]}{LENGTH_TYPE}/SR{SAMPLE_RATE}_FR{FRAME_SIZE}_HP{HOP_LENGTH}/'\n",
        "    if os_path.exists(FILEPATH) == False: os.mkdir(FILEPATH)\n",
        "\n",
        "    if NORMALIZED == True: FILENAME = f'multi_{ML_CLASSIFIER}_Norm_{FEATURES_TYPE}_features_{LENGTH_TYPE}_{LENGHT_LIMIT}_{DATABASE_NAME}_TS{int(TEST_SIZE*100)}'   \n",
        "    else: FILENAME = f'multi_{ML_CLASSIFIER}_{FEATURES_TYPE}_features_{LENGTH_TYPE}_{LENGHT_LIMIT}_{DATABASE_NAME}_TS{int(TEST_SIZE*100)}'\n",
        "\n",
        "    full_path = FILEPATH + FILENAME + \"/\"\n",
        "    if os_path.exists(full_path) == False: os.mkdir(full_path)\n",
        "\n",
        "    print(f\"{ML_CLASSIFIER} Model Train Started\")\n",
        "\n",
        "    #selecting algorithm\n",
        "    if ML_CLASSIFIER == 'KNN':\n",
        "        TSC = KNeighborsTimeSeriesClassifier(n_neighbors = 1, distance = \"dtw\")\n",
        "\n",
        "    elif ML_CLASSIFIER == 'SVM':\n",
        "        TSC = TimeSeriesSVC(kernel = \"gak\", gamma = \"auto\", n_jobs = 2)\n",
        "    \n",
        "    print(\"Model Fit\")\n",
        "    #fitting the model\n",
        "    TSC.fit(model_input['X_train'], model_input['y_train'])\n",
        "    \n",
        "    #saving model  \n",
        "    pkl.dump(TSC, open(f\"{full_path}{FILENAME}_model.pkl\",'wb'))\n",
        "    print(f\"Model Saved\")\n",
        "\n",
        "    return(TSC)"
      ],
      "metadata": {
        "id": "0MEcoGgFicn6"
      },
      "execution_count": 54,
      "outputs": []
    },
    {
      "cell_type": "code",
      "source": [
        "def model_test(TSC_model, model_input):\n",
        "\n",
        "    LABELS_NAMES = INSTRUMENTS.keys()\n",
        "    FILEPATH = f'{PATH[\"MODELS\"]}{LENGTH_TYPE}/SR{SAMPLE_RATE}_FR{FRAME_SIZE}_HP{HOP_LENGTH}/'\n",
        "    if os_path.exists(FILEPATH) == False: os.mkdir(FILEPATH)\n",
        "\n",
        "    if NORMALIZED == True: FILENAME = f'multi_{ML_CLASSIFIER}_Norm_{FEATURES_TYPE}_features_{LENGTH_TYPE}_{LENGHT_LIMIT}_{DATABASE_NAME}_TS{int(TEST_SIZE*100)}'   \n",
        "    else: FILENAME = f'multi_{ML_CLASSIFIER}_{FEATURES_TYPE}_features_{LENGTH_TYPE}_{LENGHT_LIMIT}_{DATABASE_NAME}_TS{int(TEST_SIZE*100)}'\n",
        "\n",
        "    full_path = FILEPATH + FILENAME + \"/\"\n",
        "    if os_path.exists(full_path) == False: os.mkdir(full_path)\n",
        "\n",
        "    print(f\"Time Series Classification with {ML_CLASSIFIER}\")\n",
        "\n",
        "    print(\"Model Predict\")\n",
        "    #predicting the outputs and recording the performance\n",
        "    start = performance(True)\n",
        "    y_pred_TSC = TSC_model.predict(model_input['X_test'])\n",
        "    end = performance(False, start)\n",
        "\n",
        "    #saving pred  \n",
        "    pkl.dump(y_pred_TSC, open(full_path + FILENAME + \"_pred.pkl\",'wb'))\n",
        "    print(f\"Prediction Saved\")\n",
        "\n",
        "    return(y_pred_TSC)"
      ],
      "metadata": {
        "id": "lul60eZmM8P3"
      },
      "execution_count": 55,
      "outputs": []
    },
    {
      "cell_type": "code",
      "source": [
        "def model_evaluate(model_input, prediction):\n",
        "        \n",
        "    LABELS = INSTRUMENTS.keys()\n",
        "    FILEPATH = f'{PATH[\"MODELS\"]}{LENGTH_TYPE}/SR{SAMPLE_RATE}_FR{FRAME_SIZE}_HP{HOP_LENGTH}/'\n",
        "    if os_path.exists(FILEPATH) == False: os.mkdir(FILEPATH)\n",
        "\n",
        "    if NORMALIZED == True: FILENAME = f'multi_{ML_CLASSIFIER}_Norm_{FEATURES_TYPE}_features_{LENGTH_TYPE}_{LENGHT_LIMIT}_{DATABASE_NAME}_TS{int(TEST_SIZE*100)}'   \n",
        "    else: FILENAME = f'multi_{ML_CLASSIFIER}_{FEATURES_TYPE}_features_{LENGTH_TYPE}_{LENGHT_LIMIT}_{DATABASE_NAME}_TS{int(TEST_SIZE*100)}'\n",
        "\n",
        "    full_path = FILEPATH + FILENAME + \"/\"\n",
        "    if os_path.exists(full_path) == False: os.mkdir(full_path)\n",
        "\n",
        "    #generating score\n",
        "    print(f\"Model Accuracy: {accuracy_score(model_input['y_test'], prediction)}\")  \n",
        "\n",
        "   #Model Report\n",
        "    Report = classification_report(\n",
        "        model_input['y_test'], prediction, \n",
        "        target_names = LABELS,\n",
        "        output_dict = True)\n",
        "    Report = pd.DataFrame(Report).transpose()\n",
        "    Report.to_csv(full_path + FILENAME + \"_report.csv\", encoding = \"utf-8\")\n",
        "    print(\"Classification Report Generated\")\n",
        "\n",
        "    #Confusion Matrix\n",
        "    Confusion_Matrix = confusion_matrix(model_input['y_test'], prediction)\n",
        "    Confusion_Matrix = (Confusion_Matrix.astype('float') / Confusion_Matrix.sum(axis = 1)[:, np.newaxis]) #normalize\n",
        "    df_Confusion_Matrix = pd.DataFrame(\n",
        "        Confusion_Matrix, \n",
        "        index = LABELS, \n",
        "        columns = LABELS)\n",
        "    df_Confusion_Matrix.to_csv(\n",
        "        full_path + FILENAME + \"_cmatrix.csv\", \n",
        "        encoding = \"utf-8\")\n",
        "    print(\"Confusion Matrix Generated\")\n",
        "\n",
        "    title =  f'{ML_CLASSIFIER} Time Series Classifier with {FEATURES_TYPE} Features'\n",
        "    CM_img = plot_confusion_matrix_SEABORN('',\n",
        "        Confusion_Matrix, LABELS, 'coolwarm', '.2%')\n",
        "    save_image(CM_img, full_path, FILENAME + \"_cmatrix\")\n",
        "    print(\"All Metrics Saved\")\n",
        "\n",
        "    return Report\n"
      ],
      "metadata": {
        "id": "VH3AIAGvo086"
      },
      "execution_count": 76,
      "outputs": []
    },
    {
      "cell_type": "code",
      "execution_count": 57,
      "metadata": {
        "id": "1GbEJq_BlwFE"
      },
      "outputs": [],
      "source": [
        "def load_model():\n",
        "\n",
        "    LABELS_NAMES = INSTRUMENTS.keys()\n",
        "    FILEPATH = f'{PATH[\"MODELS\"]}{LENGTH_TYPE}/SR{SAMPLE_RATE}_FR{FRAME_SIZE}_HP{HOP_LENGTH}/'\n",
        "    if os_path.exists(FILEPATH) == False: os.mkdir(FILEPATH)\n",
        "\n",
        "    if NORMALIZED == True: \n",
        "        FILENAME = f'multi_{ML_CLASSIFIER}_Norm_{FEATURES_TYPE}_features_{LENGTH_TYPE}_{LENGHT_LIMIT}_{DATABASE_NAME}_TS{int(TEST_SIZE*100)}'\n",
        "    else:\n",
        "        FILENAME = f'multi_{ML_CLASSIFIER}_{FEATURES_TYPE}_features_{LENGTH_TYPE}_{LENGHT_LIMIT}_{DATABASE_NAME}_TS{int(TEST_SIZE*100)}'\n",
        "\n",
        "    model = pkl.load(open(f\"{FILEPATH}{FILENAME}/{FILENAME}_model.pkl\",'rb'))\n",
        "\n",
        "    print(f\"{ML_CLASSIFIER} Model Loaded\")\n",
        "\n",
        "    return(model)"
      ]
    },
    {
      "cell_type": "code",
      "execution_count": 58,
      "metadata": {
        "id": "JJApi60ulQJF"
      },
      "outputs": [],
      "source": [
        "def time_series_classifier_pipeline(model_input):\n",
        "\n",
        "    LABELS_NAMES = INSTRUMENTS.keys()\n",
        "    FILEPATH = f'{PATH[\"MODELS\"]}{LENGTH_TYPE}/SR{SAMPLE_RATE}_FR{FRAME_SIZE}_HP{HOP_LENGTH}/'\n",
        "    if os_path.exists(FILEPATH) == False: os.mkdir(FILEPATH)\n",
        "\n",
        "    if NORMALIZED == True: FILENAME = f'multi_{ML_CLASSIFIER}_Norm_{FEATURES_TYPE}_features_{LENGTH_TYPE}_{LENGHT_LIMIT}_{DATABASE_NAME}_TS{int(TEST_SIZE*100)}'   \n",
        "    else: FILENAME = f'multi_{ML_CLASSIFIER}_{FEATURES_TYPE}_features_{LENGTH_TYPE}_{LENGHT_LIMIT}_{DATABASE_NAME}_TS{int(TEST_SIZE*100)}'\n",
        "\n",
        "    full_path = FILEPATH + FILENAME + \"/\"\n",
        "    if os_path.exists(full_path) == False: os.mkdir(full_path)\n",
        "\n",
        "    print(f\"Time Series Classification with {ML_CLASSIFIER}\")\n",
        "\n",
        "    #selecting algorithm\n",
        "    if ML_CLASSIFIER == 'KNN':\n",
        "        TSC = KNeighborsTimeSeriesClassifier(n_neighbors = 1, distance = \"dtw\")\n",
        "\n",
        "    elif ML_CLASSIFIER == 'SVM':\n",
        "        TSC = TimeSeriesSVC(kernel = \"gak\", gamma = \"auto\", n_jobs = 2)\n",
        "    \n",
        "    #fitting the model\n",
        "    TSC.fit(model_input['X_train'], model_input['y_train'])\n",
        "    print(\"Model Fit\")\n",
        "\n",
        "    #predicting the outputs and recording the performance\n",
        "    start = performance(True)\n",
        "    y_pred_TSC = TSC.predict(model_input['X_test'])\n",
        "    end = performance(False, start)\n",
        "    print(\"Model Predict\")\n",
        "\n",
        "    #generating score\n",
        "    print(f\"Model Accuracy: {accuracy_score(model_input['y_test'], y_pred_TSC)}\")  \n",
        "\n",
        "    #saving model  \n",
        "    pkl.dump(TSC, open(f\"{full_path}{FILENAME}_model.pkl\",'wb'))\n",
        "    pkl.dump(y_pred_TSC, open(full_path + FILENAME + \"_pred.pkl\",'wb'))\n",
        "    print(f\"Model Saved\")\n",
        "\n",
        "    #generating metrics\n",
        "    model_evaluate(model_input, y_pred_TSC)\n",
        "\n",
        "    return(y_pred_TSC)"
      ]
    },
    {
      "cell_type": "markdown",
      "metadata": {
        "id": "EKwItVePkPeQ"
      },
      "source": [
        "##*Functions 07* - **Data Visualization**"
      ]
    },
    {
      "cell_type": "markdown",
      "source": [
        "- ### *Utils*"
      ],
      "metadata": {
        "id": "XdmywOqnPQKg"
      }
    },
    {
      "cell_type": "code",
      "execution_count": 59,
      "metadata": {
        "id": "kGF-Nd3OELc1"
      },
      "outputs": [],
      "source": [
        "def save_image(fig, filepath, filename):\n",
        "\n",
        "    fig.savefig(filepath + f\"{filename}.png\", dpi = fig.dpi, format = \"png\", transparent = True, bbox_inches ='tight')\n",
        "    fig.savefig(filepath + f\"{filename}.eps\", dpi = fig.dpi, format = \"eps\", transparent = True, bbox_inches ='tight')\n",
        "    fig.savefig(filepath + f\"{filename}.svg\", dpi = fig.dpi, format = \"svg\", transparent = True, bbox_inches ='tight')\n",
        "    fig.savefig(filepath + f\"{filename}.pdf\", dpi = fig.dpi, format = \"pdf\", transparent = True, bbox_inches ='tight')"
      ]
    },
    {
      "cell_type": "markdown",
      "metadata": {
        "id": "wsatC9jiaN9E"
      },
      "source": [
        "- ### *Waveforms*"
      ]
    },
    {
      "cell_type": "code",
      "execution_count": 60,
      "metadata": {
        "id": "LZ-ZVX9iF0jQ"
      },
      "outputs": [],
      "source": [
        "def plot_waveform (audiodata, LENGHT_LIMIT):\n",
        "\n",
        "    fig, ax = plt.subplots(figsize=(20, 5))\n",
        "    img = librosa.display.waveplot(audiodata, alpha=0.5, ax=ax)\n",
        "    ax.set(title = \"Forma de Onda\", ylabel = 'Amplitude', xlabel = 'Tempo (s)', xlim = [0, LENGHT_LIMIT])\n",
        "\n",
        "    return(fig)"
      ]
    },
    {
      "cell_type": "code",
      "execution_count": 61,
      "metadata": {
        "id": "TWj6PvMzRAwm"
      },
      "outputs": [],
      "source": [
        "def plot_various_waveforms(audiodata, TYPE):\n",
        "\n",
        "    fig, ax = plt.subplots(figsize=(20, 5))\n",
        "    \n",
        "    if TYPE == 0:\n",
        "        for W in audiodata:\n",
        "            img = librosa.display.waveplot(W, alpha=0.5)\n",
        "            ax.set(title=f\"Formas de Onda\", xlim=[0,LENGHT_LIMIT])\n",
        "\n",
        "    else:\n",
        "        for i in range(10):\n",
        "            img = librosa.display.waveplot(audiodata[i], alpha=0.5)\n",
        "            ax.set(title= f\"Formas de Onda\", xlim=[0,LENGHT_LIMIT])\n",
        "\n",
        "    return fig"
      ]
    },
    {
      "cell_type": "code",
      "execution_count": 62,
      "metadata": {
        "id": "4DPn-6G-Ci6w"
      },
      "outputs": [],
      "source": [
        "def plot_waveform_with_feature(label, audiodata, time_feature):\n",
        "    \n",
        "    times = librosa.times_like(time_feature, sr = SAMPLE_RATE, hop_length = HOP_LENGTH)\n",
        "    fig, ax = plt.subplots(figsize=(20, 5))\n",
        "    \n",
        "    img = librosa.display.waveplot(y=audiodata, x_axis='time', sr=SAMPLE_RATE, alpha=0.5, ax=ax)\n",
        "    ax.plot(times, time_feature, 'o-', label = label, linewidth = 1.5, color = \"r\")\n",
        "    ax.legend(loc='upper right')\n",
        "    ax.set(title='Forma de Onda', xlabel='Tempo (s)', ylabel='Amplitude')\n",
        "\n",
        "    return(fig)"
      ]
    },
    {
      "cell_type": "markdown",
      "metadata": {
        "id": "iEVXHLs7apBc"
      },
      "source": [
        "- ### *Spectrum & Spectrograms*"
      ]
    },
    {
      "cell_type": "code",
      "execution_count": 63,
      "metadata": {
        "id": "xaNqohSIFmgb"
      },
      "outputs": [],
      "source": [
        "def plot_magnitude_spectrum(mag_spectrogram, f_ratio):\n",
        "    \n",
        "    f = np.linspace(0, SAMPLE_RATE, len(mag_spectrogram)) \n",
        "    f_bins = int(len(mag_spectrogram)*f_ratio)\n",
        "    \n",
        "    fig, ax = plt.subplots(figsize=(20, 5))\n",
        "    ax.plot(f[:f_bins], mag_spectrogram[:f_bins])\n",
        "    ax.set(title='Espectro de Magnitudes', xlabel='Frequência (Hz)', ylabel='Magnitude')\n",
        "    ax.set_ylim(bottom=0)\n",
        "\n",
        "    return (fig)"
      ]
    },
    {
      "cell_type": "code",
      "execution_count": 64,
      "metadata": {
        "id": "fUnVt3gmbuZ9"
      },
      "outputs": [],
      "source": [
        "def plot_spectrogram(audiodata):\n",
        "\n",
        "    fig, ax = plt.subplots(figsize=(20, 5))\n",
        "    img = librosa.display.specshow(audiodata, sr = SAMPLE_RATE, hop_length = HOP_LENGTH, x_axis = 'time', y_axis = 'log', ax=ax)\n",
        "    ax.set(title=\"Espectrograma de Potência\", ylabel='Frequência (Hz)', xlabel='Tempo (s)')\n",
        "    ax.set_rasterized(True)\n",
        "    fig.colorbar(img, ax=ax, format=\"%+2.f dB\")\n",
        "\n",
        "    return(fig)"
      ]
    },
    {
      "cell_type": "markdown",
      "metadata": {
        "id": "_oFvWMwraKLy"
      },
      "source": [
        "- ### *Features*"
      ]
    },
    {
      "cell_type": "code",
      "execution_count": 65,
      "metadata": {
        "id": "s7BFNEFCGJBE"
      },
      "outputs": [],
      "source": [
        "def plot_various_features(label, feature, TYPE):\n",
        "\n",
        "    fig, ax = plt.subplots(figsize=(20, 5))\n",
        "\n",
        "    if TYPE == 0:\n",
        "\n",
        "        for ft in feature:\n",
        "            times = librosa.times_like(ft, sr = SAMPLE_RATE, hop_length = HOP_LENGTH)\n",
        "            ax.plot(times, ft, linewidth = 1.5, alpha=0.5)\n",
        "            ax.set(title= f'All {label} Features', xlabel='Time (s)', ylabel='Amplitude')\n",
        "\n",
        "    elif TYPE == 1:\n",
        "\n",
        "         for i in range(100):\n",
        "            times = librosa.times_like(feature[i], sr = SAMPLE_RATE, hop_length = HOP_LENGTH)\n",
        "            ax.plot(times, feature[i], linewidth = 1.5, alpha=0.5)\n",
        "            ax.set(title= f'First 100 Samples from {label} Features', xlabel='Time (s)', ylabel='Amplitude')\n",
        "    else:\n",
        "         for i in range(10):\n",
        "             \n",
        "            times = librosa.times_like(feature[i], sr = SAMPLE_RATE, hop_length = HOP_LENGTH)\n",
        "            ax.plot(times, feature[i], linewidth = 1.5, alpha=0.5)\n",
        "            ax.set(title = f'First 10 Samples from {label} Features', xlabel='Time (s)', ylabel='Amplitude')"
      ]
    },
    {
      "cell_type": "code",
      "execution_count": 66,
      "metadata": {
        "id": "j_BjV8z9LQvQ"
      },
      "outputs": [],
      "source": [
        "def plot_temporal_features(features, limit, withwave, *audiodata):\n",
        "\n",
        "    fig, ax = plt.subplots(figsize=(20, 5))\n",
        "    if withwave == True:\n",
        "        img = librosa.display.waveplot(y = audiodata, x_axis='time', sr=SAMPLE_RATE, alpha=0.5, ax=ax)\n",
        "\n",
        "    for key, value in features.items():\n",
        "        times = librosa.times_like(value, sr = SAMPLE_RATE, hop_length = HOP_LENGTH)\n",
        "        ax.plot(times, value, 'o-', label = key, linewidth = 1.5, alpha=0.5)\n",
        "        ax.legend()\n",
        "\n",
        "    ax.set(title = \n",
        "        f'TEMPORAL FEATURES (SAMPLE RATE: {SAMPLE_RATE} - FRAME SIZE: {FRAME_SIZE} - HOP LENGTH: {HOP_LENGTH})', \n",
        "        xlabel = 'Time (s)', \n",
        "        ylabel = 'Amplitude')\n",
        "    \n",
        "    return fig"
      ]
    },
    {
      "cell_type": "code",
      "execution_count": 67,
      "metadata": {
        "id": "lFYs5tS9fJIp"
      },
      "outputs": [],
      "source": [
        "def plot_band_energy_ratio(BER, log_spectrogram, FEATURE):\n",
        "\n",
        "    times = librosa.times_like(BER, sr = SAMPLE_RATE, hop_length = HOP_LENGTH)\n",
        "    fig, ax = plt.subplots(figsize = (20, 5))\n",
        "    \n",
        "    if FEATURE == False:\n",
        "        \n",
        "        ax.semilogy(times, BER, label = 'Band Energy Ratio', linewidth = 2)\n",
        "        ax.set(ylabel='Frequencia (Hz)', xlabel='Tempo (s)', xticks=[], xlim=[times.min(), times.max()])\n",
        "        ax.legend(loc='upper right')\n",
        "    else:\n",
        "        img = librosa.display.specshow(log_spectrogram, y_axis='log', x_axis='time', sr = SAMPLE_RATE, hop_length = HOP_LENGTH, ax=ax)\n",
        "        ax.plot(times, BER, label='Band Energy Ratio', color='w', linewidth = 2)\n",
        "        ax.legend(loc='upper right')\n",
        "        ax.set(title='Espectrograma de Potência', ylabel='Frequência (Hz)', xlabel='Tempo (s)')\n",
        "        fig.colorbar(img, ax=ax, format=\"%+2.f dB\")\n",
        "    \n",
        "    return fig"
      ]
    },
    {
      "cell_type": "code",
      "execution_count": 68,
      "metadata": {
        "id": "eYpCvQz4vULB"
      },
      "outputs": [],
      "source": [
        "def plot_spectral_centroid(spectral_centroid, log_spectrogram, FEATURE):\n",
        "\n",
        "    times = librosa.times_like(spectral_centroid, sr = SAMPLE_RATE, hop_length = HOP_LENGTH)\n",
        "    fig, ax = plt.subplots(figsize = (20, 5))\n",
        "\n",
        "    if FEATURE == False:\n",
        "        \n",
        "        ax.semilogy(times, spectral_centroid, label = 'Spectral Centroid', linewidth = 2)\n",
        "        ax.set(ylabel='Frequência (Hz)', xlabel='Tempo (s)', xticks=[], xlim=[times.min(), times.max()])\n",
        "        ax.legend(loc='upper right')\n",
        "    else:\n",
        "        \n",
        "        img = librosa.display.specshow(log_spectrogram, y_axis='log', x_axis='time', sr = SAMPLE_RATE, hop_length = HOP_LENGTH, ax=ax)\n",
        "        ax.plot(times, spectral_centroid, label='Spectral Centroid', color='w', linewidth = 2)\n",
        "        ax.legend(loc='upper right')\n",
        "        ax.set(title='Espectrograma de Potência', ylabel='Frequência (Hz)', xlabel='Tempo (s)')\n",
        "        fig.colorbar(img, ax=ax, format=\"%+2.f dB\")\n",
        "\n",
        "    return fig"
      ]
    },
    {
      "cell_type": "code",
      "execution_count": 69,
      "metadata": {
        "id": "XCs3EsQ7mWOZ"
      },
      "outputs": [],
      "source": [
        "def plot_spectral_bandwidth(spc_bandwidth, spc_centroid, log_spectrogram, FEATURE):\n",
        "   \n",
        "    times = librosa.times_like(spc_bandwidth, sr = SAMPLE_RATE, hop_length = HOP_LENGTH)\n",
        "    fig, ax = plt.subplots(figsize = (20,5))\n",
        "\n",
        "    if FEATURE == False:\n",
        "        \n",
        "        ax.semilogy(times, spc_bandwidth, label = 'Spectral Bandwidth', linewidth = 2)\n",
        "        ax.set(ylabel='Hz', xticks=[], xlim=[times.min(), times.max()])\n",
        "        ax.legend(loc='upper right')\n",
        "    else:\n",
        "\n",
        "        img = librosa.display.specshow(log_spectrogram, x_axis = 'time', y_axis = 'log', sr = SAMPLE_RATE, hop_length = HOP_LENGTH, ax=ax)\n",
        "        ax.set(title='Espectrograma de Potência', ylabel='Frequência (Hz)', xlabel='Tempo (s)')\n",
        "        ax.fill_between(times, spc_centroid - spc_bandwidth, spc_centroid + spc_bandwidth, alpha = 0.5, color='c', label = 'S. Centroid +/- S. Bandwidth')\n",
        "        ax.plot(times, spc_bandwidth, label='Spectral Bandwidth', color='w', linewidth = 1.5)\n",
        "        ax.plot(times, spc_centroid, label='Spectral Centroid', color='b',  alpha = 0.5)\n",
        "        ax.legend(loc='upper right')\n",
        "        fig.colorbar(img, ax=ax, format=\"%+2.f dB\")\n",
        "\n",
        "    return fig"
      ]
    },
    {
      "cell_type": "markdown",
      "metadata": {
        "id": "8uFGwGZIZ-0a"
      },
      "source": [
        "- ### *Confusion Matrix*"
      ]
    },
    {
      "cell_type": "code",
      "execution_count": 70,
      "metadata": {
        "id": "DCEHhWMeaEx0"
      },
      "outputs": [],
      "source": [
        "def plot_confusion_matrix_SEABORN(title, cmatrix, labels, colormap, num_type):\n",
        "    \n",
        "    fig, ax = plt.subplots(figsize=(20,20))\n",
        "\n",
        "    sns.heatmap(cmatrix,\n",
        "                ax = ax,\n",
        "                xticklabels = labels, \n",
        "                yticklabels = labels,\n",
        "                cmap = colormap,\n",
        "                annot = True,\n",
        "                annot_kws={\"size\": 12},\n",
        "                fmt = num_type)\n",
        "    ax.set_title(f'{title}', fontsize = 15)\n",
        "    ax.set_xlabel('Predicted Labels', fontsize = 12)\n",
        "    ax.set_ylabel('True Labels', fontsize = 12)\n",
        "    \n",
        "    return fig"
      ]
    },
    {
      "cell_type": "code",
      "execution_count": 71,
      "metadata": {
        "id": "GfGilZ9uZ87F"
      },
      "outputs": [],
      "source": [
        "def plot_confusion_matrix_MATPLOTLIB(title, cmatrix, labels):\n",
        "    \n",
        "    disp = ConfusionMatrixDisplay(cmatrix, labels)\n",
        "    fig, ax = plt.subplots(figsize=(20,20))\n",
        "    ax.set(title = title)\n",
        "    disp.plot(ax = ax)\n",
        "\n",
        "    return fig"
      ]
    },
    {
      "cell_type": "markdown",
      "metadata": {
        "id": "2UllOuczIHwR"
      },
      "source": [
        "# **PIPELINE**"
      ]
    },
    {
      "cell_type": "markdown",
      "source": [
        "> For different Audio Length \n",
        "- ***Fixed: SR44100 - FR4096 - HL2098***\n",
        "    - *2.5s*: 27 Samples\n",
        "    - *5s*: 54 Samples\n",
        "    - *10s*: 108 Samples\n",
        "    - *20s*: 216 Samples"
      ],
      "metadata": {
        "id": "u6Wvg8HZZfS4"
      }
    },
    {
      "cell_type": "markdown",
      "metadata": {
        "id": "T_f1c461-mjo"
      },
      "source": [
        "\n",
        "> For different Window Parameters \n",
        "- ***Fixed: SR44100 - 5s***\n",
        "    - *FR4096* \n",
        "        - HL2048 -> 54 Samples\n",
        "    - *FR2048* \n",
        "        - HL1024 -> 108 Samples\n",
        "        - HL512 ->  216 Samples\n",
        "        - HL256 ->  431 Samples\n",
        "    - *FR1024* \n",
        "        - HL512 ->  216 Samples\n",
        "        - HL256 ->  431 Samples\n",
        "    - *FR512* \n",
        "        - HL256 ->  431 Samples"
      ]
    },
    {
      "cell_type": "markdown",
      "source": [
        "**Global Parameters:**"
      ],
      "metadata": {
        "id": "36n7Vhq2d6Jg"
      }
    },
    {
      "cell_type": "code",
      "execution_count": 72,
      "metadata": {
        "id": "fwi2vC54-WbC"
      },
      "outputs": [],
      "source": [
        "global INSTRUMENTS, DATABASE_NAME, LENGTH_TYPE, LENGHT_LIMIT\n",
        "global FEATURE_TYPE, NORMALIZED,  ML_CLASSIFIER, TEST_SIZE\n",
        "global SAMPLE_RATE, FRAME_SIZE, HOP_LENGTH\n",
        "\n",
        "#['Alpine', 'TinySOL']\n",
        "DATABASE_NAME = \"Alpine\"\n",
        "\n",
        "#[True]\n",
        "NORMALIZED = True\n",
        "\n",
        "#['All', 'Temporal' 'Spectral']\n",
        "FEATURES_TYPE = 'All'\n",
        "\n",
        "#[2.5, 5, 10, 20]\n",
        "LENGHT_LIMIT = 10\n",
        "LENGTH_TYPE = 'Cutted'\n",
        "\n",
        "#[44100]\n",
        "SAMPLE_RATE = 44100\n",
        "\n",
        "#[4096, 2048, 1024, 512]\n",
        "FRAME_SIZE = 4096\n",
        "\n",
        "#[2048, 1024, 512, 256]\n",
        "HOP_LENGTH = 2048\n",
        "\n",
        "#['KNN', 'SVM']\n",
        "ML_CLASSIFIER = 'KNN'\n",
        "\n",
        "#[0.20]\n",
        "TEST_SIZE = 0.20 \n",
        "\n",
        "if DATABASE_NAME == \"Alpine\": INSTRUMENTS = ALPINE\n",
        "else: INSTRUMENTS = TINYSOL"
      ]
    },
    {
      "cell_type": "markdown",
      "source": [
        "**All in One Cell:**"
      ],
      "metadata": {
        "id": "DBko5ZBNeMk8"
      }
    },
    {
      "cell_type": "code",
      "execution_count": null,
      "metadata": {
        "id": "eWzgF75F_hZd"
      },
      "outputs": [],
      "source": [
        "# if you want to run all integrated, but is very slower\n",
        "#get_instruments_data(INSTRUMENTS)\n",
        "#INPUT = preprocessing()\n",
        "#OUTPUT = time_series_classifier(INPUT)"
      ]
    },
    {
      "cell_type": "markdown",
      "source": [
        "**Step By Step:**"
      ],
      "metadata": {
        "id": "KV74rm5seDzf"
      }
    },
    {
      "cell_type": "code",
      "execution_count": null,
      "metadata": {
        "colab": {
          "base_uri": "https://localhost:8080/"
        },
        "id": "61dvpVkk0KnY",
        "outputId": "7370415c-ae97-4a5f-c19b-885133fc2f3c"
      },
      "outputs": [
        {
          "output_type": "stream",
          "name": "stdout",
          "text": [
            "Loading Parameters: SAMPLE RATE: 44100\n",
            "HORN Data Loaded\n",
            "TROMBONE Data Loaded\n",
            "TRUMPET Data Loaded\n",
            "TUBA Data Loaded\n",
            "CELLO Data Loaded\n",
            "DOUBLEBASS Data Loaded\n",
            "VIOLA Data Loaded\n",
            "VIOLIN Data Loaded\n",
            "BASSOON Data Loaded\n",
            "CLARINET Data Loaded\n",
            "FLUTE Data Loaded\n",
            "OBOE Data Loaded\n",
            "SAX Data Loaded\n"
          ]
        }
      ],
      "source": [
        "INSTRUMENTS_DATA = load_instruments_data(INSTRUMENTS)"
      ]
    },
    {
      "cell_type": "code",
      "execution_count": null,
      "metadata": {
        "id": "DkOzm1Ln2k70",
        "colab": {
          "base_uri": "https://localhost:8080/"
        },
        "outputId": "c1096d40-f950-4613-ed44-38e69275942b"
      },
      "outputs": [
        {
          "output_type": "stream",
          "name": "stdout",
          "text": [
            "Extraction Parameters:         AUDIO LENGHT - 10 - FRAME SIZE: 1024 - HOP LENGHT 512\n",
            "HORN Features Extraction Completed\n",
            "TROMBONE Features Extraction Completed\n",
            "TRUMPET Features Extraction Completed\n",
            "TUBA Features Extraction Completed\n",
            "CELLO Features Extraction Completed\n",
            "DOUBLEBASS Features Extraction Completed\n",
            "VIOLA Features Extraction Completed\n",
            "VIOLIN Features Extraction Completed\n",
            "BASSOON Features Extraction Completed\n",
            "CLARINET Features Extraction Completed\n",
            "FLUTE Features Extraction Completed\n",
            "OBOE Features Extraction Completed\n",
            "SAX Features Extraction Completed\n"
          ]
        },
        {
          "output_type": "execute_result",
          "data": {
            "text/plain": [
              "Index(['AMP', 'RMS', 'ZCR', 'BER', 'BNDW', 'CNTRD', 'LABELS'], dtype='object')"
            ]
          },
          "metadata": {},
          "execution_count": 92
        }
      ],
      "source": [
        "FEATURES_DATASET = feature_extraction(INSTRUMENTS_DATA)\n",
        "FEATURES_DATASET.keys()"
      ]
    },
    {
      "cell_type": "code",
      "execution_count": null,
      "metadata": {
        "id": "i0gyfU595VKP",
        "colab": {
          "base_uri": "https://localhost:8080/"
        },
        "outputId": "d3505e2e-3000-4a9d-e3ea-ca2c824a62c9"
      },
      "outputs": [
        {
          "output_type": "stream",
          "name": "stdout",
          "text": [
            "Nested Dataframe Splited\n",
            "Nested Dataframe Stored\n"
          ]
        },
        {
          "output_type": "execute_result",
          "data": {
            "text/plain": [
              "dict_keys(['X_train', 'X_test', 'y_train', 'y_test'])"
            ]
          },
          "metadata": {},
          "execution_count": 93
        }
      ],
      "source": [
        "INPUT = dataset_preparation(FEATURES_DATASET)\n",
        "INPUT.keys()"
      ]
    },
    {
      "cell_type": "code",
      "execution_count": 73,
      "metadata": {
        "colab": {
          "base_uri": "https://localhost:8080/"
        },
        "id": "E1Oi6nevbT1w",
        "outputId": "790f8d71-6bd9-4140-8a12-715581468ee6"
      },
      "outputs": [
        {
          "output_type": "stream",
          "name": "stdout",
          "text": [
            "Features Datasets Loaded\n"
          ]
        },
        {
          "output_type": "execute_result",
          "data": {
            "text/plain": [
              "dict_keys(['X_train', 'X_test', 'y_train', 'y_test'])"
            ]
          },
          "metadata": {},
          "execution_count": 73
        }
      ],
      "source": [
        "INPUT = load_features_dataset()\n",
        "INPUT.keys()"
      ]
    },
    {
      "cell_type": "code",
      "source": [
        "TSC_MODEL = model_train(INPUT)"
      ],
      "metadata": {
        "colab": {
          "base_uri": "https://localhost:8080/"
        },
        "id": "OvYrr7p3ka9H",
        "outputId": "8b801f1f-4ef1-4132-820b-aee911d1e576"
      },
      "execution_count": null,
      "outputs": [
        {
          "output_type": "stream",
          "name": "stdout",
          "text": [
            "KNN Model Train Started\n",
            "Model Fit\n",
            "Model Saved\n"
          ]
        }
      ]
    },
    {
      "cell_type": "code",
      "source": [
        "TSC_MODEL = load_model()\n",
        "TSC_MODEL"
      ],
      "metadata": {
        "colab": {
          "base_uri": "https://localhost:8080/"
        },
        "id": "irW6iFegkP5a",
        "outputId": "4a50ebdb-863c-4fe8-b2c5-fe703326606c"
      },
      "execution_count": 74,
      "outputs": [
        {
          "output_type": "stream",
          "name": "stdout",
          "text": [
            "KNN Model Loaded\n"
          ]
        },
        {
          "output_type": "execute_result",
          "data": {
            "text/plain": [
              "KNeighborsTimeSeriesClassifier()"
            ]
          },
          "metadata": {},
          "execution_count": 74
        }
      ]
    },
    {
      "cell_type": "code",
      "source": [
        "PREDICTED_LABELS = model_test(TSC_MODEL, INPUT)"
      ],
      "metadata": {
        "colab": {
          "base_uri": "https://localhost:8080/"
        },
        "id": "7AoLiBWqcae1",
        "outputId": "d0c139a8-0f68-474d-a171-d7ced3f3698c"
      },
      "execution_count": 75,
      "outputs": [
        {
          "output_type": "stream",
          "name": "stdout",
          "text": [
            "Time Series Classification with KNN\n",
            "Model Predict\n",
            "\n",
            "Performance Metrics Saved\n",
            "Prediction Saved\n"
          ]
        }
      ]
    },
    {
      "cell_type": "code",
      "source": [
        "REPORT = model_evaluate(INPUT, PREDICTED_LABELS)"
      ],
      "metadata": {
        "colab": {
          "base_uri": "https://localhost:8080/",
          "height": 1000
        },
        "id": "AsKMzGUrpXPC",
        "outputId": "c4225565-f5ac-4b0f-8b20-dea74e7c57a3"
      },
      "execution_count": 77,
      "outputs": [
        {
          "output_type": "stream",
          "name": "stdout",
          "text": [
            "Model Accuracy: 0.8990825688073395\n",
            "Classification Report Generated\n",
            "Confusion Matrix Generated\n",
            "All Metrics Saved\n"
          ]
        },
        {
          "output_type": "display_data",
          "data": {
            "text/plain": [
              "<Figure size 1440x1440 with 2 Axes>"
            ],
            "image/png": "[encoded data removed]"
          },
          "metadata": {
            "needs_background": "light"
          }
        }
      ]
    },
    {
      "cell_type": "code",
      "source": [
        "REPORT"
      ],
      "metadata": {
        "colab": {
          "base_uri": "https://localhost:8080/",
          "height": 551
        },
        "id": "ARxj_RyIzGtB",
        "outputId": "9045d1df-e32b-470d-945e-22a3fe764bda"
      },
      "execution_count": 78,
      "outputs": [
        {
          "output_type": "execute_result",
          "data": {
            "text/plain": [
              "              precision    recall  f1-score     support\n",
              "HORN           1.000000  0.666667  0.800000    6.000000\n",
              "TROMBONE       0.947368  1.000000  0.972973   18.000000\n",
              "TRUMPET        0.906250  0.935484  0.920635   31.000000\n",
              "TUBA           1.000000  1.000000  1.000000   11.000000\n",
              "CELLO          0.960000  0.827586  0.888889   29.000000\n",
              "DOUBLEBASS     0.888889  1.000000  0.941176    8.000000\n",
              "VIOLA          0.857143  1.000000  0.923077    6.000000\n",
              "VIOLIN         1.000000  0.666667  0.800000    6.000000\n",
              "BASSOON        0.880000  0.880000  0.880000   25.000000\n",
              "CLARINET       0.828571  0.906250  0.865672   32.000000\n",
              "FLUTE          0.500000  0.833333  0.625000    6.000000\n",
              "OBOE           0.941176  1.000000  0.969697   16.000000\n",
              "SAX            1.000000  0.833333  0.909091   24.000000\n",
              "accuracy       0.899083  0.899083  0.899083    0.899083\n",
              "macro avg      0.900723  0.888409  0.884324  218.000000\n",
              "weighted avg   0.911988  0.899083  0.900384  218.000000"
            ],
            "text/html": [
              "\n",
              "  <div id=\"df-08cb90c8-d3ee-4be1-9e7a-82ee0b9b0b0a\">\n",
              "    <div class=\"colab-df-container\">\n",
              "      <div>\n",
              "<style scoped>\n",
              "    .dataframe tbody tr th:only-of-type {\n",
              "        vertical-align: middle;\n",
              "    }\n",
              "\n",
              "    .dataframe tbody tr th {\n",
              "        vertical-align: top;\n",
              "    }\n",
              "\n",
              "    .dataframe thead th {\n",
              "        text-align: right;\n",
              "    }\n",
              "</style>\n",
              "<table border=\"1\" class=\"dataframe\">\n",
              "  <thead>\n",
              "    <tr style=\"text-align: right;\">\n",
              "      <th></th>\n",
              "      <th>precision</th>\n",
              "      <th>recall</th>\n",
              "      <th>f1-score</th>\n",
              "      <th>support</th>\n",
              "    </tr>\n",
              "  </thead>\n",
              "  <tbody>\n",
              "    <tr>\n",
              "      <th>HORN</th>\n",
              "      <td>1.000000</td>\n",
              "      <td>0.666667</td>\n",
              "      <td>0.800000</td>\n",
              "      <td>6.000000</td>\n",
              "    </tr>\n",
              "    <tr>\n",
              "      <th>TROMBONE</th>\n",
              "      <td>0.947368</td>\n",
              "      <td>1.000000</td>\n",
              "      <td>0.972973</td>\n",
              "      <td>18.000000</td>\n",
              "    </tr>\n",
              "    <tr>\n",
              "      <th>TRUMPET</th>\n",
              "      <td>0.906250</td>\n",
              "      <td>0.935484</td>\n",
              "      <td>0.920635</td>\n",
              "      <td>31.000000</td>\n",
              "    </tr>\n",
              "    <tr>\n",
              "      <th>TUBA</th>\n",
              "      <td>1.000000</td>\n",
              "      <td>1.000000</td>\n",
              "      <td>1.000000</td>\n",
              "      <td>11.000000</td>\n",
              "    </tr>\n",
              "    <tr>\n",
              "      <th>CELLO</th>\n",
              "      <td>0.960000</td>\n",
              "      <td>0.827586</td>\n",
              "      <td>0.888889</td>\n",
              "      <td>29.000000</td>\n",
              "    </tr>\n",
              "    <tr>\n",
              "      <th>DOUBLEBASS</th>\n",
              "      <td>0.888889</td>\n",
              "      <td>1.000000</td>\n",
              "      <td>0.941176</td>\n",
              "      <td>8.000000</td>\n",
              "    </tr>\n",
              "    <tr>\n",
              "      <th>VIOLA</th>\n",
              "      <td>0.857143</td>\n",
              "      <td>1.000000</td>\n",
              "      <td>0.923077</td>\n",
              "      <td>6.000000</td>\n",
              "    </tr>\n",
              "    <tr>\n",
              "      <th>VIOLIN</th>\n",
              "      <td>1.000000</td>\n",
              "      <td>0.666667</td>\n",
              "      <td>0.800000</td>\n",
              "      <td>6.000000</td>\n",
              "    </tr>\n",
              "    <tr>\n",
              "      <th>BASSOON</th>\n",
              "      <td>0.880000</td>\n",
              "      <td>0.880000</td>\n",
              "      <td>0.880000</td>\n",
              "      <td>25.000000</td>\n",
              "    </tr>\n",
              "    <tr>\n",
              "      <th>CLARINET</th>\n",
              "      <td>0.828571</td>\n",
              "      <td>0.906250</td>\n",
              "      <td>0.865672</td>\n",
              "      <td>32.000000</td>\n",
              "    </tr>\n",
              "    <tr>\n",
              "      <th>FLUTE</th>\n",
              "      <td>0.500000</td>\n",
              "      <td>0.833333</td>\n",
              "      <td>0.625000</td>\n",
              "      <td>6.000000</td>\n",
              "    </tr>\n",
              "    <tr>\n",
              "      <th>OBOE</th>\n",
              "      <td>0.941176</td>\n",
              "      <td>1.000000</td>\n",
              "      <td>0.969697</td>\n",
              "      <td>16.000000</td>\n",
              "    </tr>\n",
              "    <tr>\n",
              "      <th>SAX</th>\n",
              "      <td>1.000000</td>\n",
              "      <td>0.833333</td>\n",
              "      <td>0.909091</td>\n",
              "      <td>24.000000</td>\n",
              "    </tr>\n",
              "    <tr>\n",
              "      <th>accuracy</th>\n",
              "      <td>0.899083</td>\n",
              "      <td>0.899083</td>\n",
              "      <td>0.899083</td>\n",
              "      <td>0.899083</td>\n",
              "    </tr>\n",
              "    <tr>\n",
              "      <th>macro avg</th>\n",
              "      <td>0.900723</td>\n",
              "      <td>0.888409</td>\n",
              "      <td>0.884324</td>\n",
              "      <td>218.000000</td>\n",
              "    </tr>\n",
              "    <tr>\n",
              "      <th>weighted avg</th>\n",
              "      <td>0.911988</td>\n",
              "      <td>0.899083</td>\n",
              "      <td>0.900384</td>\n",
              "      <td>218.000000</td>\n",
              "    </tr>\n",
              "  </tbody>\n",
              "</table>\n",
              "</div>\n",
              "      <button class=\"colab-df-convert\" onclick=\"convertToInteractive('df-08cb90c8-d3ee-4be1-9e7a-82ee0b9b0b0a')\"\n",
              "              title=\"Convert this dataframe to an interactive table.\"\n",
              "              style=\"display:none;\">\n",
              "        \n",
              "  <svg xmlns=\"http://www.w3.org/2000/svg\" height=\"24px\"viewBox=\"0 0 24 24\"\n",
              "       width=\"24px\">\n",
              "    <path d=\"M0 0h24v24H0V0z\" fill=\"none\"/>\n",
              "    <path d=\"M18.56 5.44l.94 2.06.94-2.06 2.06-.94-2.06-.94-.94-2.06-.94 2.06-2.06.94zm-11 1L8.5 8.5l.94-2.06 2.06-.94-2.06-.94L8.5 2.5l-.94 2.06-2.06.94zm10 10l.94 2.06.94-2.06 2.06-.94-2.06-.94-.94-2.06-.94 2.06-2.06.94z\"/><path d=\"M17.41 7.96l-1.37-1.37c-.4-.4-.92-.59-1.43-.59-.52 0-1.04.2-1.43.59L10.3 9.45l-7.72 7.72c-.78.78-.78 2.05 0 2.83L4 21.41c.39.39.9.59 1.41.59.51 0 1.02-.2 1.41-.59l7.78-7.78 2.81-2.81c.8-.78.8-2.07 0-2.86zM5.41 20L4 18.59l7.72-7.72 1.47 1.35L5.41 20z\"/>\n",
              "  </svg>\n",
              "      </button>\n",
              "      \n",
              "  <style>\n",
              "    .colab-df-container {\n",
              "      display:flex;\n",
              "      flex-wrap:wrap;\n",
              "      gap: 12px;\n",
              "    }\n",
              "\n",
              "    .colab-df-convert {\n",
              "      background-color: #E8F0FE;\n",
              "      border: none;\n",
              "      border-radius: 50%;\n",
              "      cursor: pointer;\n",
              "      display: none;\n",
              "      fill: #1967D2;\n",
              "      height: 32px;\n",
              "      padding: 0 0 0 0;\n",
              "      width: 32px;\n",
              "    }\n",
              "\n",
              "    .colab-df-convert:hover {\n",
              "      background-color: #E2EBFA;\n",
              "      box-shadow: 0px 1px 2px rgba(60, 64, 67, 0.3), 0px 1px 3px 1px rgba(60, 64, 67, 0.15);\n",
              "      fill: #174EA6;\n",
              "    }\n",
              "\n",
              "    [theme=dark] .colab-df-convert {\n",
              "      background-color: #3B4455;\n",
              "      fill: #D2E3FC;\n",
              "    }\n",
              "\n",
              "    [theme=dark] .colab-df-convert:hover {\n",
              "      background-color: #434B5C;\n",
              "      box-shadow: 0px 1px 3px 1px rgba(0, 0, 0, 0.15);\n",
              "      filter: drop-shadow(0px 1px 2px rgba(0, 0, 0, 0.3));\n",
              "      fill: #FFFFFF;\n",
              "    }\n",
              "  </style>\n",
              "\n",
              "      <script>\n",
              "        const buttonEl =\n",
              "          document.querySelector('#df-08cb90c8-d3ee-4be1-9e7a-82ee0b9b0b0a button.colab-df-convert');\n",
              "        buttonEl.style.display =\n",
              "          google.colab.kernel.accessAllowed ? 'block' : 'none';\n",
              "\n",
              "        async function convertToInteractive(key) {\n",
              "          const element = document.querySelector('#df-08cb90c8-d3ee-4be1-9e7a-82ee0b9b0b0a');\n",
              "          const dataTable =\n",
              "            await google.colab.kernel.invokeFunction('convertToInteractive',\n",
              "                                                     [key], {});\n",
              "          if (!dataTable) return;\n",
              "\n",
              "          const docLinkHtml = 'Like what you see? Visit the ' +\n",
              "            '<a target=\"_blank\" href=https://colab.research.google.com/notebooks/data_table.ipynb>data table notebook</a>'\n",
              "            + ' to learn more about interactive tables.';\n",
              "          element.innerHTML = '';\n",
              "          dataTable['output_type'] = 'display_data';\n",
              "          await google.colab.output.renderOutput(dataTable, element);\n",
              "          const docLink = document.createElement('div');\n",
              "          docLink.innerHTML = docLinkHtml;\n",
              "          element.appendChild(docLink);\n",
              "        }\n",
              "      </script>\n",
              "    </div>\n",
              "  </div>\n",
              "  "
            ]
          },
          "metadata": {},
          "execution_count": 78
        }
      ]
    }
  ],
  "metadata": {
    "colab": {
      "collapsed_sections": [
        "V8upzhgRHAWq",
        "5dQA1fbESgPa",
        "Q9vHn3l8YiRq",
        "XYszJOz1_hzH",
        "L2gslACrXZ30",
        "SiVcUgNu_397",
        "qp8O56wesnVE",
        "1caxTpt15t7S",
        "DmUPGAY7w-1p",
        "4IUDtIlCjyjT",
        "okJnpMnJlGPQ",
        "EKwItVePkPeQ",
        "XdmywOqnPQKg",
        "wsatC9jiaN9E",
        "iEVXHLs7apBc",
        "_oFvWMwraKLy",
        "8uFGwGZIZ-0a",
        "2UllOuczIHwR"
      ],
      "name": "Automatic Musical Instrument Classification using Multivariate Time Series Classification.ipynb",
      "provenance": [],
      "include_colab_link": true
    },
    "kernelspec": {
      "display_name": "Python 3",
      "name": "python3"
    },
    "language_info": {
      "name": "python"
    }
  },
  "nbformat": 4,
  "nbformat_minor": 0
}